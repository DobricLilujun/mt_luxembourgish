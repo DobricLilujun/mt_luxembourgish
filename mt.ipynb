{
 "cells": [
  {
   "cell_type": "markdown",
   "metadata": {},
   "source": [
    "# Luxembourgish language translation"
   ]
  },
  {
   "cell_type": "markdown",
   "metadata": {},
   "source": [
    "Author: Lujun LI\n",
    "\n",
    "This is a demo project for luxembourgish langaguage translation \n",
    "\n",
    "We mainly use langchain and huggingface opensource models\n",
    "\n",
    "1. Classification of langaguage: especially luxembourgish\n",
    "2. Translate luxembourgish to english\n",
    "3. Translate non-luxembourgish sentence to english\n",
    "4. Sentiment analysis for the pipeline\n",
    "\n",
    "\n",
    "Objectif: low cost & high accuracy\n",
    "\n",
    "**Start from loading data**"
   ]
  },
  {
   "cell_type": "code",
   "execution_count": 43,
   "metadata": {},
   "outputs": [],
   "source": [
    "import pandas as pd\n",
    "\n",
    "data = pd.read_csv(\n",
    "    \"data/Machine Translation - Luxembourguish_list - Machine Translation - Luxembourguish_list.csv\"\n",
    ")\n",
    "\n",
    "language_map = {\n",
    "    \"de\": \"German\",\n",
    "    \"nl\": \"Dutch\",\n",
    "    \"it\": \"Italian\",\n",
    "    \"pt\": \"Portuguese\",\n",
    "    \"ur\": \"Urdu\",\n",
    "    \"hi\": \"Hindi\",\n",
    "    \"fr\": \"French\",\n",
    "    \"lb\": \"Luxembourgish\",\n",
    "    \"en\": \"English\",\n",
    "}\n",
    "language_map_reverse = {v: k for k, v in language_map.items()}\n",
    "data[\"true_flag\"] = data[\"Language\"].map(language_map_reverse)"
   ]
  },
  {
   "cell_type": "markdown",
   "metadata": {},
   "source": [
    "## Classification"
   ]
  },
  {
   "cell_type": "markdown",
   "metadata": {},
   "source": [
    "Choose the model and testing"
   ]
  },
  {
   "cell_type": "code",
   "execution_count": 44,
   "metadata": {},
   "outputs": [],
   "source": [
    "import torch\n",
    "from transformers import AutoModelForSequenceClassification, AutoTokenizer\n",
    "\n",
    "texts = data[\"Sentence\"].to_list()\n",
    "\n",
    "model_ckpt = \"papluca/xlm-roberta-base-language-detection\"\n",
    "tokenizer = AutoTokenizer.from_pretrained(model_ckpt)\n",
    "model = AutoModelForSequenceClassification.from_pretrained(model_ckpt)\n",
    "\n",
    "inputs = tokenizer(texts, padding=True, truncation=True, return_tensors=\"pt\")\n",
    "\n",
    "with torch.no_grad():\n",
    "    logits = model(**inputs).logits\n",
    "\n",
    "preds = torch.softmax(logits, dim=-1)\n",
    "\n",
    "# Map raw predictions to languages"
   ]
  },
  {
   "cell_type": "code",
   "execution_count": 45,
   "metadata": {},
   "outputs": [],
   "source": [
    "id2lang = model.config.id2label\n",
    "vals, idxs = torch.max(preds, dim=1)\n",
    "labels = []\n",
    "pbs = []\n",
    "for idx, val in zip(idxs, vals):\n",
    "    labels.append(id2lang[idx.item()])\n",
    "    pbs.append(val.item())\n",
    "\n",
    "label_series = pd.Series(labels, name=\"label_roberta\")\n",
    "pb_series = pd.Series(pbs, name=\"probability_roberta\")\n",
    "data = pd.concat([data, label_series, pb_series], axis=1)"
   ]
  },
  {
   "cell_type": "code",
   "execution_count": 46,
   "metadata": {},
   "outputs": [],
   "source": [
    "from langid.langid import LanguageIdentifier, model\n",
    "\n",
    "labels = []\n",
    "pbs = []\n",
    "identifier = LanguageIdentifier.from_modelstring(model, norm_probs=True)\n",
    "identifier.set_languages([\"lb\", \"en\", \"nl\", \"fr\", \"de\"])\n",
    "for text in texts:\n",
    "    conf, prob = identifier.classify(text)\n",
    "    labels.append(conf)\n",
    "    pbs.append(prob)\n",
    "\n",
    "label_series = pd.Series(labels, name=\"label_langid\")\n",
    "pb_series = pd.Series(pbs, name=\"probability_langid\")\n",
    "data = pd.concat([data, label_series, pb_series], axis=1)"
   ]
  },
  {
   "cell_type": "code",
   "execution_count": 57,
   "metadata": {},
   "outputs": [
    {
     "name": "stdout",
     "output_type": "stream",
     "text": [
      "Accuracy_all_langid on all languages: 0.825\n",
      "Accuracy_all_langid on luxembourgish: 0.35\n",
      "Accuracy_all_roberta on all languages: 0.75\n",
      "Accuracy_all_roberta on luxembourgish: 0.0\n"
     ]
    }
   ],
   "source": [
    "correct = (data[\"true_flag\"] == data[\"label_langid\"]).sum()\n",
    "total = len(data)\n",
    "accuracy = correct / total\n",
    "print(\"Accuracy_all_langid on all languages: \" + str(accuracy))\n",
    "\n",
    "\n",
    "data_lux = data[data[\"Language\"] == \"Luxembourgish\"]\n",
    "correct = (data_lux[\"true_flag\"] == data_lux[\"label_langid\"]).sum()\n",
    "total = len(data_lux)\n",
    "accuracy = correct / total\n",
    "print(\"Accuracy_all_langid on luxembourgish: \" + str(accuracy))\n",
    "\n",
    "correct = (data[\"true_flag\"] == data[\"label_roberta\"]).sum()\n",
    "total = len(data)\n",
    "accuracy = correct / total\n",
    "print(\"Accuracy_all_roberta on all languages: \" + str(accuracy))\n",
    "\n",
    "\n",
    "data_lux = data[data[\"Language\"] == \"Luxembourgish\"]\n",
    "correct = (data_lux[\"true_flag\"] == data_lux[\"label_roberta\"]).sum()\n",
    "total = len(data_lux)\n",
    "accuracy = correct / total\n",
    "print(\"Accuracy_all_roberta on luxembourgish: \" + str(accuracy))"
   ]
  },
  {
   "cell_type": "code",
   "execution_count": 62,
   "metadata": {},
   "outputs": [
    {
     "data": {
      "text/html": [
       "<div>\n",
       "<style scoped>\n",
       "    .dataframe tbody tr th:only-of-type {\n",
       "        vertical-align: middle;\n",
       "    }\n",
       "\n",
       "    .dataframe tbody tr th {\n",
       "        vertical-align: top;\n",
       "    }\n",
       "\n",
       "    .dataframe thead th {\n",
       "        text-align: right;\n",
       "    }\n",
       "</style>\n",
       "<table border=\"1\" class=\"dataframe\">\n",
       "  <thead>\n",
       "    <tr style=\"text-align: right;\">\n",
       "      <th></th>\n",
       "      <th>true_flag</th>\n",
       "      <th>correct_prediction</th>\n",
       "    </tr>\n",
       "  </thead>\n",
       "  <tbody>\n",
       "    <tr>\n",
       "      <th>0</th>\n",
       "      <td>de</td>\n",
       "      <td>0.95</td>\n",
       "    </tr>\n",
       "    <tr>\n",
       "      <th>1</th>\n",
       "      <td>en</td>\n",
       "      <td>1.00</td>\n",
       "    </tr>\n",
       "    <tr>\n",
       "      <th>2</th>\n",
       "      <td>fr</td>\n",
       "      <td>1.00</td>\n",
       "    </tr>\n",
       "    <tr>\n",
       "      <th>3</th>\n",
       "      <td>lb</td>\n",
       "      <td>0.35</td>\n",
       "    </tr>\n",
       "  </tbody>\n",
       "</table>\n",
       "</div>"
      ],
      "text/plain": [
       "  true_flag  correct_prediction\n",
       "0        de                0.95\n",
       "1        en                1.00\n",
       "2        fr                1.00\n",
       "3        lb                0.35"
      ]
     },
     "execution_count": 62,
     "metadata": {},
     "output_type": "execute_result"
    }
   ],
   "source": [
    "data[\"correct_prediction\"] = (data[\"true_flag\"] == data[\"label_langid\"]).astype(int)\n",
    "accuracy_df = data.groupby(\"true_flag\")[\"correct_prediction\"].mean().reset_index()\n",
    "accuracy_df"
   ]
  },
  {
   "cell_type": "code",
   "execution_count": 63,
   "metadata": {},
   "outputs": [
    {
     "data": {
      "text/html": [
       "<div>\n",
       "<style scoped>\n",
       "    .dataframe tbody tr th:only-of-type {\n",
       "        vertical-align: middle;\n",
       "    }\n",
       "\n",
       "    .dataframe tbody tr th {\n",
       "        vertical-align: top;\n",
       "    }\n",
       "\n",
       "    .dataframe thead th {\n",
       "        text-align: right;\n",
       "    }\n",
       "</style>\n",
       "<table border=\"1\" class=\"dataframe\">\n",
       "  <thead>\n",
       "    <tr style=\"text-align: right;\">\n",
       "      <th></th>\n",
       "      <th>true_flag</th>\n",
       "      <th>correct_prediction</th>\n",
       "    </tr>\n",
       "  </thead>\n",
       "  <tbody>\n",
       "    <tr>\n",
       "      <th>0</th>\n",
       "      <td>de</td>\n",
       "      <td>1.0</td>\n",
       "    </tr>\n",
       "    <tr>\n",
       "      <th>1</th>\n",
       "      <td>en</td>\n",
       "      <td>1.0</td>\n",
       "    </tr>\n",
       "    <tr>\n",
       "      <th>2</th>\n",
       "      <td>fr</td>\n",
       "      <td>1.0</td>\n",
       "    </tr>\n",
       "    <tr>\n",
       "      <th>3</th>\n",
       "      <td>lb</td>\n",
       "      <td>0.0</td>\n",
       "    </tr>\n",
       "  </tbody>\n",
       "</table>\n",
       "</div>"
      ],
      "text/plain": [
       "  true_flag  correct_prediction\n",
       "0        de                 1.0\n",
       "1        en                 1.0\n",
       "2        fr                 1.0\n",
       "3        lb                 0.0"
      ]
     },
     "execution_count": 63,
     "metadata": {},
     "output_type": "execute_result"
    }
   ],
   "source": [
    "data[\"correct_prediction\"] = (data[\"true_flag\"] == data[\"label_roberta\"]).astype(int)\n",
    "accuracy_df = data.groupby(\"true_flag\")[\"correct_prediction\"].mean().reset_index()\n",
    "accuracy_df"
   ]
  },
  {
   "cell_type": "markdown",
   "metadata": {},
   "source": [
    "## Translation"
   ]
  },
  {
   "cell_type": "markdown",
   "metadata": {},
   "source": [
    "Without training and directly use the model to do the translation from German to english and from luxembourgish to english"
   ]
  },
  {
   "cell_type": "code",
   "execution_count": null,
   "metadata": {},
   "outputs": [],
   "source": [
    "from transformers import MarianMTModel, MarianTokenizer\n",
    "\n",
    "model_name = \"etamin/Letz-Translate-OPUS-LB-EN\"\n",
    "tokenizer = MarianTokenizer.from_pretrained(model_name)\n",
    "model = MarianMTModel.from_pretrained(model_name)"
   ]
  },
  {
   "cell_type": "code",
   "execution_count": 81,
   "metadata": {},
   "outputs": [],
   "source": [
    "input_texts = data[~data[\"label_roberta\"].isin([\"en\", \"fr\"])][\"Sentence\"].to_list()\n",
    "indices = data[~data[\"label_roberta\"].isin([\"en\", \"fr\"])].index\n",
    "\n",
    "inputs = tokenizer(input_texts, return_tensors=\"pt\", padding=True, truncation=True)\n",
    "\n",
    "outputs = model.generate(**inputs, max_length=50, num_beams=4, early_stopping=True)\n",
    "\n",
    "translated_texts = [\n",
    "    tokenizer.decode(output, skip_special_tokens=True) for output in outputs\n",
    "]\n",
    "\n",
    "translated_series = pd.Series(translated_texts, index=indices)\n",
    "data[\"translated_sentence\"] = None\n",
    "data.loc[translated_series.index, \"translated_sentence\"] = translated_series"
   ]
  },
  {
   "cell_type": "code",
   "execution_count": 80,
   "metadata": {},
   "outputs": [],
   "source": [
    "data.to_csv(\"output.csv\", index=False)"
   ]
  }
 ],
 "metadata": {
  "kernelspec": {
   "display_name": "causalLLM",
   "language": "python",
   "name": "python3"
  },
  "language_info": {
   "codemirror_mode": {
    "name": "ipython",
    "version": 3
   },
   "file_extension": ".py",
   "mimetype": "text/x-python",
   "name": "python",
   "nbconvert_exporter": "python",
   "pygments_lexer": "ipython3",
   "version": "3.9.18"
  }
 },
 "nbformat": 4,
 "nbformat_minor": 2
}
