{
 "cells": [
  {
   "cell_type": "code",
   "execution_count": null,
   "metadata": {},
   "outputs": [],
   "source": [
    "import zstandard as zstd\n",
    "import os\n",
    "\n",
    "def compress_file(input_file: str, output_file: str, compression_level: int = 3):\n",
    "    cctx = zstd.ZstdCompressor(level=compression_level)\n",
    "    \n",
    "    with open(input_file, 'rb') as f_in, open(output_file, 'wb') as f_out:\n",
    "        f_out.write(cctx.compress(f_in.read()))\n",
    "    print(f\"Compressed {input_file} -> {output_file} at level {compression_level}\")\n",
    "\n",
    "def decompress_file(input_file: str, output_file: str):\n",
    "    dctx = zstd.ZstdDecompressor()\n",
    "    \n",
    "    with open(input_file, 'rb') as f_in, open(output_file, 'wb') as f_out:\n",
    "        f_out.write(dctx.decompress(f_in.read()))\n",
    "    print(f\"Decompressed {input_file} -> {output_file}\")\n",
    "\n",
    "if __name__ == \"__main__\":\n",
    "    input_path = \"example.txt\"\n",
    "    compressed_path = \"example.txt.zst\"\n",
    "    decompressed_path = \"example_decompressed.txt\"\n",
    "    \n",
    "    with open(input_path, 'w') as f:\n",
    "        f.write(\"This is a test file for Zstandard compression.\")\n",
    "    \n",
    "    compress_file(input_path, compressed_path, compression_level=20)\n",
    "    decompress_file(compressed_path, decompressed_path)\n",
    "\n",
    "    assert open(input_path, 'r').read() == open(decompressed_path, 'r').read()\n",
    "    print(\"Compression and decompression successful!\")"
   ]
  }
 ],
 "metadata": {
  "kernelspec": {
   "display_name": "causalAnalysis",
   "language": "python",
   "name": "python3"
  },
  "language_info": {
   "name": "python",
   "version": "3.9.18"
  }
 },
 "nbformat": 4,
 "nbformat_minor": 2
}
