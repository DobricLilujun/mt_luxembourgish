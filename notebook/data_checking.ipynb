{
 "cells": [
  {
   "cell_type": "markdown",
   "metadata": {},
   "source": [
    "# Undertanding dataset\n",
    "\n",
    "- BCS\n",
    "- FT\n",
    "- LuxemBERT\n",
    "- NC_lux"
   ]
  },
  {
   "cell_type": "markdown",
   "metadata": {},
   "source": [
    "import libraries"
   ]
  },
  {
   "cell_type": "code",
   "execution_count": 33,
   "metadata": {},
   "outputs": [],
   "source": [
    "import json\n",
    "import pandas as pd\n",
    "\n",
    "from utils.utils_nlp import split_paragraph"
   ]
  },
  {
   "cell_type": "markdown",
   "metadata": {},
   "source": [
    "## NC_LUX"
   ]
  },
  {
   "cell_type": "code",
   "execution_count": 40,
   "metadata": {},
   "outputs": [
    {
     "data": {
      "text/html": [
       "<div>\n",
       "<style scoped>\n",
       "    .dataframe tbody tr th:only-of-type {\n",
       "        vertical-align: middle;\n",
       "    }\n",
       "\n",
       "    .dataframe tbody tr th {\n",
       "        vertical-align: top;\n",
       "    }\n",
       "\n",
       "    .dataframe thead th {\n",
       "        text-align: right;\n",
       "    }\n",
       "</style>\n",
       "<table border=\"1\" class=\"dataframe\">\n",
       "  <thead>\n",
       "    <tr style=\"text-align: right;\">\n",
       "      <th></th>\n",
       "      <th>length</th>\n",
       "      <th>sentences_count</th>\n",
       "    </tr>\n",
       "  </thead>\n",
       "  <tbody>\n",
       "    <tr>\n",
       "      <th>count</th>\n",
       "      <td>7055.000000</td>\n",
       "      <td>7055.000000</td>\n",
       "    </tr>\n",
       "    <tr>\n",
       "      <th>mean</th>\n",
       "      <td>1798.263359</td>\n",
       "      <td>12.881502</td>\n",
       "    </tr>\n",
       "    <tr>\n",
       "      <th>std</th>\n",
       "      <td>1646.203736</td>\n",
       "      <td>10.779453</td>\n",
       "    </tr>\n",
       "    <tr>\n",
       "      <th>min</th>\n",
       "      <td>12.000000</td>\n",
       "      <td>1.000000</td>\n",
       "    </tr>\n",
       "    <tr>\n",
       "      <th>25%</th>\n",
       "      <td>760.500000</td>\n",
       "      <td>6.000000</td>\n",
       "    </tr>\n",
       "    <tr>\n",
       "      <th>50%</th>\n",
       "      <td>1359.000000</td>\n",
       "      <td>10.000000</td>\n",
       "    </tr>\n",
       "    <tr>\n",
       "      <th>75%</th>\n",
       "      <td>2263.000000</td>\n",
       "      <td>16.000000</td>\n",
       "    </tr>\n",
       "    <tr>\n",
       "      <th>max</th>\n",
       "      <td>21138.000000</td>\n",
       "      <td>171.000000</td>\n",
       "    </tr>\n",
       "  </tbody>\n",
       "</table>\n",
       "</div>"
      ],
      "text/plain": [
       "             length  sentences_count\n",
       "count   7055.000000      7055.000000\n",
       "mean    1798.263359        12.881502\n",
       "std     1646.203736        10.779453\n",
       "min       12.000000         1.000000\n",
       "25%      760.500000         6.000000\n",
       "50%     1359.000000        10.000000\n",
       "75%     2263.000000        16.000000\n",
       "max    21138.000000       171.000000"
      ]
     },
     "execution_count": 40,
     "metadata": {},
     "output_type": "execute_result"
    }
   ],
   "source": [
    "data = []\n",
    "\n",
    "## NC_lux - Luxembourgish Only Text With Category Labels\n",
    "\n",
    "with open(\n",
    "    \"/Users/lujun.li/projects/mt_luxembourgish/data/NC_lux/train.json\",\n",
    "    \"r\",\n",
    "    encoding=\"utf-8\",\n",
    ") as file:\n",
    "    for line in file:\n",
    "        json_data = json.loads(line)\n",
    "        data.append(json_data)\n",
    "\n",
    "\n",
    "NC_lux_df = pd.DataFrame(data)\n",
    "NC_lux_df[\"length\"] = NC_lux_df[\"text\"].apply(len)\n",
    "NC_lux_df[[\"sentences\", \"sentences_count\"]] = NC_lux_df[\"text\"].apply(\n",
    "    lambda x: pd.Series(split_paragraph(x))\n",
    ")\n",
    "\n",
    "NC_lux_df = NC_lux_df[NC_lux_df[\"sentences_count\"] != 0]\n",
    "\n",
    "NC_lux_df.describe()"
   ]
  },
  {
   "cell_type": "markdown",
   "metadata": {},
   "source": [
    "## LuxemBERT"
   ]
  },
  {
   "cell_type": "code",
   "execution_count": 62,
   "metadata": {},
   "outputs": [],
   "source": [
    "# L_RTE - Luxembourgish data with a negation labels\n",
    "\n",
    "L_RTE_df = pd.read_csv(\n",
    "    \"/Users/lujun.li/projects/mt_luxembourgish/data/LuxemBERT/L-RTE/train.tsv\",\n",
    "    sep=\"\\t\",\n",
    "    index_col=\"index\",\n",
    ").reset_index()\n",
    "L_RTE_df.describe()"
   ]
  },
  {
   "cell_type": "markdown",
   "metadata": {},
   "source": [
    "## LLama 70B Result filtering\n"
   ]
  },
  {
   "cell_type": "code",
   "execution_count": 1,
   "metadata": {},
   "outputs": [],
   "source": [
    "import pandas as pd\n",
    "\n",
    "\n",
    "df = pd.read_csv(\n",
    "    \"/home/lujun_li/projects/mt_luxembourgish/data/fake_targets/translation_llama3_70b_complete.csv\"\n",
    ")"
   ]
  },
  {
   "cell_type": "code",
   "execution_count": 2,
   "metadata": {},
   "outputs": [],
   "source": [
    "df[\"translated_text\"] = df[\"translated_text\"].str.replace(r\"\\n\", \"\", regex=True)"
   ]
  },
  {
   "cell_type": "code",
   "execution_count": 3,
   "metadata": {},
   "outputs": [],
   "source": [
    "import fasttext\n",
    "\n",
    "model_path = \"/home/lujun_li/projects/mt_luxembourgish/models/lang_dect/lid218e.bin\"\n",
    "model = fasttext.load_model(model_path)\n",
    "\n",
    "\n",
    "def detect_language_from_row(row, k=1):\n",
    "    \"\"\"\n",
    "    Detect the language from a DataFrame row.\n",
    "\n",
    "    Args:\n",
    "        row (pd.Series): A row from a DataFrame containing a column 'text'.\n",
    "        k (int): Number of top language predictions to consider.\n",
    "\n",
    "    Returns:\n",
    "        tuple: (list of top k languages with probabilities, bool indicating if Luxembourgish was detected)\n",
    "    \"\"\"\n",
    "    text = row[\"translated_text\"]  # Extract the text from the DataFrame row\n",
    "\n",
    "    # Use the model to predict the language\n",
    "    labels, probs = model.predict(text, k=k)\n",
    "\n",
    "    # Prepare a list of the top k languages and their probabilities\n",
    "    results = []\n",
    "    is_english = False\n",
    "\n",
    "    for label, prob in zip(labels, probs):\n",
    "        # Clean the label by removing the prefix '__label__'\n",
    "        lang = label.replace(\"__label__\", \"\")\n",
    "\n",
    "        # Check if Luxembourgish is in the top k results\n",
    "        if \"eng_Latn\" in lang and probs > 0.9:\n",
    "            is_english = True\n",
    "\n",
    "        results.append((lang, prob))\n",
    "\n",
    "    # Return the top k results and whether Luxembourgish was detected\n",
    "    return results, is_english\n",
    "\n",
    "\n",
    "def detect_quality_issues(row):\n",
    "    # 1. 检查是否存在“translated_text”或者“----” 3068\n",
    "    if \"translated_text\" in row[\"translated_text\"] or \"----\" in row[\"translated_text\"]:\n",
    "        return 1\n",
    "\n",
    "    # 2. 检查段落是否有换行 352\n",
    "    if \"\\n\" in row[\"translated_text\"]:\n",
    "        return 2\n",
    "\n",
    "    # 3. 检查输出比输入短一半 459\n",
    "    source_length = len(row[\"subsentence\"].replace(\" \", \"\"))\n",
    "    target_length = len(row[\"translated_text\"].replace(\" \", \"\"))\n",
    "    if target_length < 0.5 * source_length:\n",
    "        return 3\n",
    "\n",
    "    # 4. 检查输出比输入长 1.5 倍以上 1154\n",
    "    if target_length > 1.5 * source_length:\n",
    "        return 4\n",
    "\n",
    "    # 5. 检查 source_text 是否包含类似 HTML 标签\n",
    "    if \"<div\" in row[\"subsentence\"] and \"</div>\" in row[\"subsentence\"]:\n",
    "        return 5\n",
    "\n",
    "    # 6. 检查 target_text 是否包含类似 HTML 标签\n",
    "    if \"<div\" in row[\"translated_text\"] and \"</div>\" in row[\"translated_text\"]:\n",
    "        return 6\n",
    "    return 0\n",
    "\n",
    "\n",
    "# 应用检测规则\n",
    "df[\"quality_issues\"] = df.apply(detect_quality_issues, axis=1)\n",
    "\n",
    "df[\"language_detection\"] = df.apply(detect_language_from_row, axis=1)\n",
    "\n",
    "# Split the results into two new columns\n",
    "df[\"lang_detection_translated\"], df[\"is_english_translated\"] = zip(\n",
    "    *df[\"language_detection\"]\n",
    ")\n",
    "\n",
    "## Choose top 2 languages detected and if one languange detected is luxembourgish, then is_luxembourgish is True"
   ]
  },
  {
   "cell_type": "code",
   "execution_count": 4,
   "metadata": {},
   "outputs": [
    {
     "name": "stdout",
     "output_type": "stream",
     "text": [
      "Initial dataset size: (135890, 14)\n",
      "Size after filtering by 'is_english_translated': (130532, 14)\n",
      "Size after filtering 'quality_issues' != 1: (129953, 14)\n",
      "Size after filtering 'quality_issues' != 5: (128726, 14)\n",
      "Size after filtering 'quality_issues' != 6: (128726, 14)\n",
      "Size after filtering 'quality_issues' != 4: (128608, 14)\n"
     ]
    }
   ],
   "source": [
    "# Initial dataset size\n",
    "print(\"Initial dataset size:\", df.shape)\n",
    "\n",
    "# Filter by 'is_english_translated'\n",
    "df = df[df[\"is_english_translated\"] == True]\n",
    "print(\"Size after filtering by 'is_english_translated':\", df.shape)\n",
    "\n",
    "# Filter by 'quality_issues' != 1\n",
    "df = df[df[\"quality_issues\"] != 1]\n",
    "print(\"Size after filtering 'quality_issues' != 1:\", df.shape)\n",
    "\n",
    "# Filter by 'quality_issues' != 5\n",
    "df = df[df[\"quality_issues\"] != 5]\n",
    "print(\"Size after filtering 'quality_issues' != 5:\", df.shape)\n",
    "\n",
    "# Filter by 'quality_issues' != 6\n",
    "df = df[df[\"quality_issues\"] != 6]\n",
    "print(\"Size after filtering 'quality_issues' != 6:\", df.shape)\n",
    "\n",
    "# Filter by 'quality_issues' != 4\n",
    "df = df[df[\"quality_issues\"] != 4]\n",
    "print(\"Size after filtering 'quality_issues' != 4:\", df.shape)"
   ]
  },
  {
   "cell_type": "code",
   "execution_count": null,
   "metadata": {},
   "outputs": [],
   "source": [
    "import pyarrow as pa\n",
    "import pyarrow.parquet as pq\n",
    "\n",
    "# Convert DataFrame to Arrow Table\n",
    "arrow_table = pa.Table.from_pandas(df)\n",
    "\n",
    "# Save the Arrow Table to a .arrow file\n",
    "arrow_file_path = (\n",
    "    \"/home/lujun_li/projects/mt_luxembourgish/data/fake_targets/filtered_data.arrow\"\n",
    ")\n",
    "pq.write_table(arrow_table, arrow_file_path)\n",
    "\n",
    "print(f\"Data saved to {arrow_file_path}\")"
   ]
  }
 ],
 "metadata": {
  "kernelspec": {
   "display_name": "mt_luxembourgish_env",
   "language": "python",
   "name": "python3"
  },
  "language_info": {
   "codemirror_mode": {
    "name": "ipython",
    "version": 3
   },
   "file_extension": ".py",
   "mimetype": "text/x-python",
   "name": "python",
   "nbconvert_exporter": "python",
   "pygments_lexer": "ipython3",
   "version": "3.10.12"
  }
 },
 "nbformat": 4,
 "nbformat_minor": 2
}
