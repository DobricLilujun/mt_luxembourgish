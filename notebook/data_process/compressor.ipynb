{
 "cells": [
  {
   "cell_type": "code",
   "execution_count": 7,
   "metadata": {},
   "outputs": [
    {
     "name": "stdout",
     "output_type": "stream",
     "text": [
      "Decompressed data/source/vllm_exp_dataset_csv_Llama-3.3-70B-Instruct__20250201_093027.jsonl.zst -> data/source/vllm_exp_dataset_csv_Llama-3.3-70B-Instruct__20250201_093027.jsonl\n",
      "Compression and decompression successful!\n"
     ]
    }
   ],
   "source": [
    "import zstandard as zstd\n",
    "import os\n",
    "\n",
    "def compress_file(input_file: str, output_file: str, compression_level: int = 3):\n",
    "    cctx = zstd.ZstdCompressor(level=compression_level)\n",
    "    \n",
    "    with open(input_file, 'rb') as f_in, open(output_file, 'wb') as f_out:\n",
    "        f_out.write(cctx.compress(f_in.read()))\n",
    "    print(f\"Compressed {input_file} -> {output_file} at level {compression_level}\")\n",
    "\n",
    "def decompress_file(input_file: str, output_file: str):\n",
    "    dctx = zstd.ZstdDecompressor()\n",
    "    \n",
    "    with open(input_file, 'rb') as f_in, open(output_file, 'wb') as f_out:\n",
    "        f_out.write(dctx.decompress(f_in.read()))\n",
    "    print(f\"Decompressed {input_file} -> {output_file}\")\n",
    "\n",
    "if __name__ == \"__main__\":\n",
    "    # input_path = \"data/source/vllm_exp_dataset_csv_Llama-3.3-70B-Instruct__20250131_193801.jsonl.zst\"\n",
    "    compressed_path = \"data/source/vllm_exp_dataset_csv_Llama-3.3-70B-Instruct__20250201_093027.jsonl.zst\"\n",
    "    decompressed_path = \"data/source/vllm_exp_dataset_csv_Llama-3.3-70B-Instruct__20250201_093027.jsonl\"\n",
    "    \n",
    "    # compress_file(input_path, compressed_path, compression_level=20)\n",
    "    decompress_file(compressed_path, decompressed_path)\n",
    "\n",
    "    # assert open(input_path, 'r').read() == open(decompressed_path, 'r').read()\n",
    "    print(\"Compression and decompression successful!\")"
   ]
  }
 ],
 "metadata": {
  "kernelspec": {
   "display_name": "causalAnalysis",
   "language": "python",
   "name": "python3"
  },
  "language_info": {
   "codemirror_mode": {
    "name": "ipython",
    "version": 3
   },
   "file_extension": ".py",
   "mimetype": "text/x-python",
   "name": "python",
   "nbconvert_exporter": "python",
   "pygments_lexer": "ipython3",
   "version": "3.9.18"
  }
 },
 "nbformat": 4,
 "nbformat_minor": 2
}
