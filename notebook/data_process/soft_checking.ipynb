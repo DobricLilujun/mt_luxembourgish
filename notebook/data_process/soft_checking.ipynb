{
 "cells": [
  {
   "cell_type": "code",
   "execution_count": 11,
   "metadata": {},
   "outputs": [],
   "source": [
    "import pandas as pd\n",
    "\n",
    "df = pd.read_json(\"/Users/lujun.li/projects/mt_luxembourgish/data/processed/dataset_openai_soft.jsonl\", lines=True)\n",
    "\n",
    "df_llama_with_split = pd.read_json(\"/Users/lujun.li/projects/mt_luxembourgish/data/processed/dataset_merged_llama_fake_targets_with_split.jsonl\", lines=True)\n",
    "\n",
    "merged_df = pd.merge(df_llama_with_split, df, on=[\"input\", \"index\"], how=\"left\", suffixes=(\"_llama\", \"_soft\"))\n",
    "\n",
    "merged_df = merged_df.drop_duplicates(subset=[\"index_unique\"])\n",
    "\n",
    "merged_df.rename(columns={\"dataset_llama\": \"dataset\", \"translated_text_soft\": \"translated_text\"}, inplace=True)\n",
    "\n",
    "merged_df = merged_df[[\"index_unique\", \"input\", \"translated_text\", \"dataset\",\"split\"]]\n"
   ]
  },
  {
   "cell_type": "code",
   "execution_count": 12,
   "metadata": {},
   "outputs": [],
   "source": [
    "\n",
    "merged_df.to_json(\"/Users/lujun.li/projects/mt_luxembourgish/data/processed/dataset_merged_GPT_fake_targets_with_split.jsonl\", orient=\"records\", lines=True)"
   ]
  },
  {
   "cell_type": "code",
   "execution_count": 13,
   "metadata": {},
   "outputs": [],
   "source": [
    "llama = pd.read_json(\"/Users/lujun.li/projects/mt_luxembourgish/data/processed/dataset_merged_llama_fake_targets_with_split.jsonl\", lines=True)\n",
    "nllb = pd.read_json(\"/Users/lujun.li/projects/mt_luxembourgish/data/processed/dataset_merged_nllb_fake_targets_with_split.jsonl\", lines=True)\n",
    "GPT4_df = pd.read_json(\"/Users/lujun.li/projects/mt_luxembourgish/data/processed/dataset_merged_GPT_fake_targets_with_split.jsonl\", lines=True)"
   ]
  },
  {
   "cell_type": "code",
   "execution_count": 14,
   "metadata": {},
   "outputs": [],
   "source": [
    "df_merged = pd.concat([llama, nllb, GPT4_df ])   "
   ]
  },
  {
   "cell_type": "code",
   "execution_count": 15,
   "metadata": {},
   "outputs": [],
   "source": [
    "df_merged.to_json(\"/Users/lujun.li/projects/mt_luxembourgish/data/processed/dataset_merged_llama_nllb_GPT_fake_targets_with_split.jsonl\", orient=\"records\", lines=True)"
   ]
  },
  {
   "cell_type": "code",
   "execution_count": null,
   "metadata": {},
   "outputs": [],
   "source": []
  }
 ],
 "metadata": {
  "kernelspec": {
   "display_name": "causalAnalysis",
   "language": "python",
   "name": "python3"
  },
  "language_info": {
   "codemirror_mode": {
    "name": "ipython",
    "version": 3
   },
   "file_extension": ".py",
   "mimetype": "text/x-python",
   "name": "python",
   "nbconvert_exporter": "python",
   "pygments_lexer": "ipython3",
   "version": "3.9.18"
  }
 },
 "nbformat": 4,
 "nbformat_minor": 2
}
