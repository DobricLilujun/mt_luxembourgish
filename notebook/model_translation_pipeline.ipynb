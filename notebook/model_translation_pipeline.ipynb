{
 "cells": [
  {
   "cell_type": "markdown",
   "metadata": {},
   "source": [
    "# LLMs Translation Pipeline\n"
   ]
  },
  {
   "cell_type": "markdown",
   "metadata": {},
   "source": [
    "This would be a pipeline for Machine Translation from lux to english including data pre-processing, translation and data post-processing.\n",
    "\n",
    "1. Context information should be included inside each transation sample and sliding windows will be used.\n",
    "2. Make full use of the model's hallucination properties to make more samples. (Different temperatures: 0.1,0.5,0.9,1.3)\n",
    "3. Clean the models' output and check the correcteness of the models' output. (Corprus Checking)"
   ]
  },
  {
   "cell_type": "markdown",
   "metadata": {},
   "source": [
    "## Data pre-processing"
   ]
  },
  {
   "cell_type": "code",
   "execution_count": 1,
   "metadata": {},
   "outputs": [
    {
     "data": {
      "text/html": [
       "<div>\n",
       "<style scoped>\n",
       "    .dataframe tbody tr th:only-of-type {\n",
       "        vertical-align: middle;\n",
       "    }\n",
       "\n",
       "    .dataframe tbody tr th {\n",
       "        vertical-align: top;\n",
       "    }\n",
       "\n",
       "    .dataframe thead th {\n",
       "        text-align: right;\n",
       "    }\n",
       "</style>\n",
       "<table border=\"1\" class=\"dataframe\">\n",
       "  <thead>\n",
       "    <tr style=\"text-align: right;\">\n",
       "      <th></th>\n",
       "      <th>label</th>\n",
       "      <th>text</th>\n",
       "      <th>length</th>\n",
       "    </tr>\n",
       "  </thead>\n",
       "  <tbody>\n",
       "    <tr>\n",
       "      <th>0</th>\n",
       "      <td>train</td>\n",
       "      <td>Bei den Dammen a bei den Häre stoung an der Sc...</td>\n",
       "      <td>899</td>\n",
       "    </tr>\n",
       "  </tbody>\n",
       "</table>\n",
       "</div>"
      ],
      "text/plain": [
       "   label                                               text  length\n",
       "0  train  Bei den Dammen a bei den Häre stoung an der Sc...     899"
      ]
     },
     "execution_count": 1,
     "metadata": {},
     "output_type": "execute_result"
    }
   ],
   "source": [
    "import json\n",
    "import pandas as pd\n",
    "from utils.utils_nlp import split_paragraph\n",
    "\n",
    "\n",
    "def load_data(file_path, label):\n",
    "    data = []\n",
    "    with open(file_path, 'r', encoding='utf-8') as file:\n",
    "        for line in file:\n",
    "            json_data = json.loads(line)\n",
    "            json_data['label'] = label\n",
    "            data.append(json_data)\n",
    "    return data\n",
    "    \n",
    "train_data = load_data('/Users/lujun.li/projects/mt_luxembourgish/data/NC_lux/train.json', 'train')\n",
    "test_data = load_data('/Users/lujun.li/projects/mt_luxembourgish/data/NC_lux/test.json', 'test')\n",
    "dev_data = load_data('/Users/lujun.li/projects/mt_luxembourgish/data/NC_lux/dev.json', 'dev')\n",
    "all_data = train_data + test_data + dev_data\n",
    "\n",
    "NC_lux_df = pd.DataFrame(all_data)\n",
    "NC_lux_df[\"length\"] = NC_lux_df[\"text\"].apply(len)\n",
    "NC_lux_df.head(1)\n",
    "\n"
   ]
  },
  {
   "cell_type": "code",
   "execution_count": 2,
   "metadata": {},
   "outputs": [
    {
     "name": "stdout",
     "output_type": "stream",
     "text": [
      "Original length: 10052\n",
      "New length after dropping duplicates: 10042\n",
      "Number of dropped duplicates: 10\n"
     ]
    }
   ],
   "source": [
    "# Drop Duplicates\n",
    "original_len = len(NC_lux_df)\n",
    "print(\"Original length:\", original_len)\n",
    "NC_lux_df.drop_duplicates(subset=['text'], inplace=True)\n",
    "new_len = len(NC_lux_df)\n",
    "print(\"New length after dropping duplicates:\", new_len)\n",
    "dropped_count = original_len - new_len\n",
    "print(\"Number of dropped duplicates:\", dropped_count)"
   ]
  },
  {
   "cell_type": "code",
   "execution_count": 3,
   "metadata": {},
   "outputs": [
    {
     "name": "stderr",
     "output_type": "stream",
     "text": [
      "/opt/anaconda3/envs/causalAnalysis/lib/python3.9/site-packages/huggingface_hub/file_download.py:1132: FutureWarning: `resume_download` is deprecated and will be removed in version 1.0.0. Downloads always resume when possible. If you want to force a new download, use `force_download=True`.\n",
      "  warnings.warn(\n",
      "/opt/anaconda3/envs/causalAnalysis/lib/python3.9/site-packages/transformers/models/marian/tokenization_marian.py:197: UserWarning: Recommended: pip install sacremoses.\n",
      "  warnings.warn(\"Recommended: pip install sacremoses.\")\n",
      "Token indices sequence length is longer than the specified maximum sequence length for this model (1775 > 1024). Running this sequence through the model will result in indexing errors\n"
     ]
    }
   ],
   "source": [
    "from transformers import AutoTokenizer\n",
    "\n",
    "model_nllb = \"facebook/nllb-200-distilled-600M\"\n",
    "model_opus = \"Helsinki-NLP/opus-mt-mul-en\"\n",
    "\n",
    "nllb_tokenizer = AutoTokenizer.from_pretrained(model_nllb)\n",
    "opus_tokenizer = AutoTokenizer.from_pretrained(model_opus)\n",
    "\n",
    "def calculate_tokens(df, text_column):\n",
    "    def get_token_length(text, tokenizer):\n",
    "        tokens = tokenizer.tokenize(text)\n",
    "        return len(tokens)\n",
    "    \n",
    "    df['NLLB_tokens'] = df[text_column].apply(lambda x: nllb_tokenizer.tokenize(x))\n",
    "    df['NLLB_token_length'] = df[text_column].apply(lambda x: get_token_length(x, nllb_tokenizer))\n",
    "    \n",
    "    df['OPUS_tokens'] = df[text_column].apply(lambda x: opus_tokenizer.tokenize(x))\n",
    "    df['OPUS_token_length'] = df[text_column].apply(lambda x: get_token_length(x, opus_tokenizer))\n",
    "    return df\n",
    "\n",
    "NC_lux_df = calculate_tokens(NC_lux_df, 'text')"
   ]
  },
  {
   "cell_type": "code",
   "execution_count": null,
   "metadata": {},
   "outputs": [
    {
     "name": "stderr",
     "output_type": "stream",
     "text": [
      "/opt/anaconda3/envs/causalAnalysis/lib/python3.9/site-packages/huggingface_hub/file_download.py:1132: FutureWarning: `resume_download` is deprecated and will be removed in version 1.0.0. Downloads always resume when possible. If you want to force a new download, use `force_download=True`.\n",
      "  warnings.warn(\n"
     ]
    }
   ],
   "source": [
    "from transformers import AutoTokenizer, AutoModelForSeq2SeqLM\n",
    "\n",
    "nllb_model = AutoModelForSeq2SeqLM.from_pretrained(model_nllb,local_files_only=True)\n",
    "opus_model = AutoModelForSeq2SeqLM.from_pretrained(model_opus,local_files_only=True)\n",
    "\n",
    "nllb_max_length = nllb_model.config.max_position_embeddings\n",
    "opus_max_length = opus_model.config.max_position_embeddings\n"
   ]
  },
  {
   "cell_type": "code",
   "execution_count": null,
   "metadata": {},
   "outputs": [],
   "source": [
    "import pandas as pd\n",
    "import matplotlib.pyplot as plt\n",
    "import seaborn as sns\n",
    "\n",
    "# Plotting the distribution of NLLB_token_length\n",
    "plt.figure(figsize=(10, 6))\n",
    "sns.histplot(NC_lux_df[\"NLLB_token_length\"], bins=10, kde=True)\n",
    "plt.title('Distribution of NLLB_token_length')\n",
    "plt.xlabel('NLLB_token_length')\n",
    "plt.ylabel('Frequency')\n",
    "plt.grid()\n",
    "plt.show()\n"
   ]
  },
  {
   "cell_type": "code",
   "execution_count": null,
   "metadata": {},
   "outputs": [],
   "source": [
    "from langchain_text_splitters import RecursiveCharacterTextSplitter\n",
    "\n",
    "chunk_size = 512\n",
    "chunk_overlap = 256\n",
    "text_splitter = RecursiveCharacterTextSplitter(\n",
    "    chunk_size=chunk_size,\n",
    "    chunk_overlap=chunk_overlap,\n",
    "    length_function=len,\n",
    "    is_separator_regex=False,\n",
    ")\n"
   ]
  }
 ],
 "metadata": {
  "kernelspec": {
   "display_name": "causalAnalysis",
   "language": "python",
   "name": "python3"
  },
  "language_info": {
   "codemirror_mode": {
    "name": "ipython",
    "version": 3
   },
   "file_extension": ".py",
   "mimetype": "text/x-python",
   "name": "python",
   "nbconvert_exporter": "python",
   "pygments_lexer": "ipython3",
   "version": "3.9.18"
  }
 },
 "nbformat": 4,
 "nbformat_minor": 2
}
