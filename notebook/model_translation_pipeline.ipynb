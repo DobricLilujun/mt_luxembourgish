{
 "cells": [
  {
   "cell_type": "markdown",
   "metadata": {},
   "source": [
    "# LLMs Translation Pipeline\n"
   ]
  },
  {
   "cell_type": "markdown",
   "metadata": {},
   "source": [
    "This would be a pipeline for Machine Translation from lux to english including data pre-processing, translation and data post-processing.\n",
    "\n",
    "1. Context information should be included inside each transation sample and sliding windows will be used.\n",
    "2. Make full use of the model's hallucination properties to make more samples. (Different temperatures: 0.1,0.5,0.9,1.3)\n",
    "3. Clean the models' output and check the correcteness of the models' output. (Corprus Checking)"
   ]
  },
  {
   "cell_type": "markdown",
   "metadata": {},
   "source": [
    "## Data pre-processing"
   ]
  },
  {
   "cell_type": "code",
   "execution_count": 1,
   "metadata": {},
   "outputs": [
    {
     "data": {
      "text/html": [
       "<div>\n",
       "<style scoped>\n",
       "    .dataframe tbody tr th:only-of-type {\n",
       "        vertical-align: middle;\n",
       "    }\n",
       "\n",
       "    .dataframe tbody tr th {\n",
       "        vertical-align: top;\n",
       "    }\n",
       "\n",
       "    .dataframe thead th {\n",
       "        text-align: right;\n",
       "    }\n",
       "</style>\n",
       "<table border=\"1\" class=\"dataframe\">\n",
       "  <thead>\n",
       "    <tr style=\"text-align: right;\">\n",
       "      <th></th>\n",
       "      <th>label</th>\n",
       "      <th>text</th>\n",
       "      <th>length</th>\n",
       "    </tr>\n",
       "  </thead>\n",
       "  <tbody>\n",
       "    <tr>\n",
       "      <th>0</th>\n",
       "      <td>train</td>\n",
       "      <td>Bei den Dammen a bei den Häre stoung an der Sc...</td>\n",
       "      <td>899</td>\n",
       "    </tr>\n",
       "  </tbody>\n",
       "</table>\n",
       "</div>"
      ],
      "text/plain": [
       "   label                                               text  length\n",
       "0  train  Bei den Dammen a bei den Häre stoung an der Sc...     899"
      ]
     },
     "execution_count": 1,
     "metadata": {},
     "output_type": "execute_result"
    }
   ],
   "source": [
    "import json\n",
    "import pandas as pd\n",
    "from utils.utils_nlp import split_paragraph\n",
    "\n",
    "\n",
    "def load_data(file_path, label):\n",
    "    data = []\n",
    "    with open(file_path, 'r', encoding='utf-8') as file:\n",
    "        for line in file:\n",
    "            json_data = json.loads(line)\n",
    "            json_data['label'] = label\n",
    "            data.append(json_data)\n",
    "    return data\n",
    "    \n",
    "train_data = load_data('data/NC_lux/train.json', 'train')\n",
    "test_data = load_data('data/NC_lux/test.json', 'test')\n",
    "dev_data = load_data('data/NC_lux/dev.json', 'dev')\n",
    "all_data = train_data + test_data + dev_data\n",
    "\n",
    "NC_lux_df = pd.DataFrame(all_data)\n",
    "NC_lux_df[\"length\"] = NC_lux_df[\"text\"].apply(len)\n",
    "NC_lux_df.head(1)\n"
   ]
  },
  {
   "cell_type": "code",
   "execution_count": 2,
   "metadata": {},
   "outputs": [
    {
     "name": "stdout",
     "output_type": "stream",
     "text": [
      "Original length: 10052\n",
      "New length after dropping duplicates: 10042\n",
      "Number of dropped duplicates: 10\n"
     ]
    }
   ],
   "source": [
    "# Drop Duplicates\n",
    "original_len = len(NC_lux_df)\n",
    "print(\"Original length:\", original_len)\n",
    "NC_lux_df.drop_duplicates(subset=['text'], inplace=True)\n",
    "new_len = len(NC_lux_df)\n",
    "print(\"New length after dropping duplicates:\", new_len)\n",
    "dropped_count = original_len - new_len\n",
    "print(\"Number of dropped duplicates:\", dropped_count)"
   ]
  },
  {
   "cell_type": "code",
   "execution_count": 3,
   "metadata": {},
   "outputs": [],
   "source": [
    "import re\n",
    "\n",
    "max_length = int(1024 * 0.75) # Max context length * token rate\n",
    "\n",
    "def chunk_sentence(sentence, max_length):\n",
    "    chunks = []\n",
    "    for i in range(0, len(sentence), max_length):\n",
    "        chunk = sentence[i:i + max_length].strip()\n",
    "        chunks.append(chunk)\n",
    "    return chunks\n",
    "\n",
    "def split_and_slide(text, sentence_window, max_length):\n",
    "    sentences = re.split(r'(?<=[.!?;…]) +', text)\n",
    "    sub_sentences = []\n",
    "    \n",
    "    for i in range(len(sentences)):\n",
    "        window_size = sentence_window\n",
    "\n",
    "        # Split sentences by using\n",
    "        while window_size > 0:\n",
    "            sub_sentence = ' '.join(sentences[i:i + window_size])\n",
    "            if len(sub_sentence) <= max_length:\n",
    "                sub_sentences.append(sub_sentence.strip())\n",
    "                break\n",
    "            window_size -= 1\n",
    "        # Check \n",
    "        if window_size == 0 and len(sub_sentence) > max_length:\n",
    "            long_sentence = sentences[i].strip()\n",
    "            sub_sentences.extend(chunk_sentence(long_sentence, max_length))\n",
    "    return sub_sentences\n",
    "\n",
    "sentence_window = 3 # Needs to be determined\n",
    "\n",
    "NC_lux_df['sub_sentences'] = NC_lux_df['text'].apply(lambda x: split_and_slide(x, sentence_window, max_length))\n",
    "df_exploded = NC_lux_df.explode('sub_sentences')\n",
    "df_exploded = df_exploded.drop(columns=['text'])\n",
    "\n",
    "df_exploded = df_exploded.rename(columns={'sub_sentences': 'text'})\n",
    "df_exploded['text'] = df_exploded['text'].astype(str)\n",
    "df_exploded[\"length\"] = df_exploded[\"text\"].apply(len)\n",
    "\n"
   ]
  },
  {
   "cell_type": "code",
   "execution_count": 4,
   "metadata": {},
   "outputs": [
    {
     "data": {
      "image/png": "[encoded data removed]",
      "text/plain": [
       "<Figure size 1000x600 with 1 Axes>"
      ]
     },
     "metadata": {},
     "output_type": "display_data"
    }
   ],
   "source": [
    "import matplotlib.pyplot as plt\n",
    "\n",
    "df_exploded[\"length\"] = df_exploded[\"text\"].apply(len)\n",
    "\n",
    "plt.figure(figsize=(10, 6))\n",
    "plt.hist(df_exploded[\"length\"], bins=30, color='skyblue', edgecolor='black')\n",
    "plt.title(\"Length Distribution of Texts\")\n",
    "plt.xlabel(\"Text Length\")\n",
    "plt.ylabel(\"Frequency\")\n",
    "plt.show()"
   ]
  },
  {
   "cell_type": "markdown",
   "metadata": {},
   "source": [
    "# Inference Modeling\n",
    "\n",
    "\n",
    "|  Models |  Luxembourgish to English |  Luxembourgish to French | Luxembourgish to  German |\n",
    "|:-------:|:-------:|:-------:|:-------:|\n",
    "|  Mixtral 8*22B  |  Yes  |  Yes  |  Yes  |\n",
    "|  Llama-3-4B  |  Yes  |  Yes  |  Yes  |\n",
    "|  ChatGPT 3.5-Turbo |  Yes  |  Yes  |  Yes  |"
   ]
  },
  {
   "cell_type": "code",
   "execution_count": null,
   "metadata": {},
   "outputs": [],
   "source": [
    "prompt_template = \"\"\"Please translate the following {language_1} text into {language_2}. Please answer me with only translated text!\n",
    "\n",
    "---------------------------------- Text to be translated ----------------------------------\n",
    "\n",
    "{Text}\n",
    "\n",
    "---------------------------------- Text to be translated ----------------------------------\n",
    "\n",
    "\"\"\"\n",
    "\n",
    "df_exploded[\"prompt\"] = df_exploded[\"text\"].apply( lambda text: prompt_template.format(language_1=\"Luxembourgish\", language_2=\"English\", Text=text))"
   ]
  },
  {
   "cell_type": "code",
   "execution_count": null,
   "metadata": {},
   "outputs": [
    {
     "data": {
      "application/vnd.jupyter.widget-view+json": {
       "model_id": "2a0d9016645b4e318810759b3b32782c",
       "version_major": 2,
       "version_minor": 0
      },
      "text/plain": [
       "Loading checkpoint shards:   0%|          | 0/2 [00:00<?, ?it/s]"
      ]
     },
     "metadata": {},
     "output_type": "display_data"
    }
   ],
   "source": [
    "import torch\n",
    "from transformers import (\n",
    "    AutoTokenizer,\n",
    "    AutoModelForCausalLM,\n",
    "    BitsAndBytesConfig,\n",
    "    GenerationConfig,\n",
    "    pipeline,\n",
    ")\n",
    "from tqdm import tqdm\n",
    "import pandas as pd\n",
    "import argparse\n",
    "import torch\n",
    "import numpy as np\n",
    "from datetime import datetime\n",
    "import time\n",
    "\n",
    "def initialize_pipeline(model_config_dict):\n",
    "    model_path = model_config_dict[\"CURRENT_RUNNING_MODEL\"]\n",
    "    if not model_path:\n",
    "        raise ValueError(\"CURRENT_RUNNING_MODEL is not set\")\n",
    "    load_in_4bit,load_in_8bit = model_config_dict[\"CURRENT_LOAD_IN_4BIT\"],model_config_dict[\"CURRENT_LOAD_IN_8BIT\"]\n",
    "\n",
    "    if model_config_dict[\"IF_LOADING_QUANTIZATION\"]:\n",
    "        nf4_config = BitsAndBytesConfig(load_in_4bit=load_in_4bit, load_in_8bit=load_in_8bit,bnb_4bit_compute_dtype=torch.float16,)\n",
    "    else:\n",
    "        nf4_config = None\n",
    "\n",
    "    generation_config = GenerationConfig.from_pretrained(model_path)\n",
    "    # Sampling Methods Configuration\n",
    "    generation_config.do_sample = True\n",
    "    generation_config.max_length = 1024\n",
    "    generation_config.pad_token_id = 0\n",
    "    generation_config.top_p = 0.9\n",
    "    generation_config.temperature = 0.9\n",
    "    generation_config.max_new_tokens = 512\n",
    "    dynamic_text_pipeline = pipeline(\"text-generation\", model=model_path, torch_dtype=torch.float32, device_map=\"auto\")\n",
    "    dynamic_text_pipeline.model.generation_config = generation_config\n",
    "    return dynamic_text_pipeline\n",
    "\n",
    "def generate_text(pipeline, prompt):\n",
    "    messages = [\n",
    "        {\"role\": \"system\", \"content\": \"\"},\n",
    "        {\"role\": \"user\", \"content\": prompt},\n",
    "    ]\n",
    "    response = pipeline(prompt)[0][\"generated_text\"][-1]\n",
    "    return response\n",
    "\n",
    "\n",
    "model_config_dict = {\n",
    "    \"CURRENT_RUNNING_MODEL\": \"mt_luxembourgish/meta-llama/Llama-3.2-3B-Instruct\",\n",
    "    \"IF_LOADING_QUANTIZATION\": False,\n",
    "    \"CURRENT_LOAD_IN_4BIT\": False,\n",
    "    \"CURRENT_LOAD_IN_8BIT\": False\n",
    "}\n",
    "pipeline = initialize_pipeline(model_config_dict)"
   ]
  },
  {
   "cell_type": "code",
   "execution_count": null,
   "metadata": {},
   "outputs": [],
   "source": [
    "# Run inference\n",
    "from datetime import datetime\n",
    "\n",
    "\n",
    "pbar = tqdm(total=len(df_exploded))\n",
    "pbar.n = 0; pbar.last_print_n =0, pbar.refresh()\n",
    "\n",
    "current_time = datetime.now().strftime(\"%Y_%m_%d_%H_%M_%S\")\n",
    "for index, row in df_exploded.iterrows():\n",
    "        updated_row = row.copy()\n",
    "        updated_row[\"generated_response\"] = generate_text(pipeline=pipeline, prompt=updated_row[\"prompt\"])\n",
    "        updated_dataframe = pd.DataFrame([updated_row])\n",
    "        if times == 0:\n",
    "            updated_dataframe.to_csv( f\"results/translation_{current_time}\", index=False, mode=\"w\", header=True)\n",
    "        else:\n",
    "            updated_dataframe.to_csv( f\"results/translation_{current_time}\", index=False, mode=\"a\", header=False)\n",
    "        pbar.update(1)\n",
    "        times = times + 1"
   ]
  }
 ],
 "metadata": {
  "kernelspec": {
   "display_name": "causalAnalysis",
   "language": "python",
   "name": "python3"
  },
  "language_info": {
   "codemirror_mode": {
    "name": "ipython",
    "version": 3
   },
   "file_extension": ".py",
   "mimetype": "text/x-python",
   "name": "python",
   "nbconvert_exporter": "python",
   "pygments_lexer": "ipython3",
   "version": "3.9.18"
  }
 },
 "nbformat": 4,
 "nbformat_minor": 2
}
