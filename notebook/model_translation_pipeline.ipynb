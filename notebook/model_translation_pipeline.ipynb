{
 "cells": [
  {
   "cell_type": "markdown",
   "metadata": {},
   "source": [
    "# LLMs Translation Pipeline\n"
   ]
  },
  {
   "cell_type": "markdown",
   "metadata": {},
   "source": [
    "This would be a pipeline for Machine Translation from lux to english including data pre-processing, translation and data post-processing.\n",
    "\n",
    "1. Context information should be included inside each transation sample and sliding windows will be used.\n",
    "2. Make full use of the model's hallucination properties to make more samples. (Different temperatures: 0.1,0.5,0.9,1.3)\n",
    "3. Clean the models' output and check the correcteness of the models' output. (Corprus Checking)"
   ]
  },
  {
   "cell_type": "markdown",
   "metadata": {},
   "source": [
    "## Data pre-processing"
   ]
  },
  {
   "cell_type": "code",
   "execution_count": 1,
   "metadata": {},
   "outputs": [],
   "source": [
    "import json\n",
    "import pandas as pd\n",
    "from utils.utils_nlp import split_paragraph\n",
    "\n",
    "\n",
    "def load_data(file_path, label):\n",
    "    data = []\n",
    "    with open(file_path, 'r', encoding='utf-8') as file:\n",
    "        for line in file:\n",
    "            json_data = json.loads(line)\n",
    "            json_data['label'] = label\n",
    "            data.append(json_data)\n",
    "    return data\n",
    "    \n",
    "train_data = load_data('data/NC_lux/train.json', 'train')\n",
    "test_data = load_data('data/NC_lux/test.json', 'test')\n",
    "dev_data = load_data('data/NC_lux/dev.json', 'dev')\n",
    "all_data = train_data + test_data + dev_data\n",
    "\n",
    "NC_lux_df = pd.DataFrame(all_data)\n",
    "\n",
    "# Take 30% for testing\n",
    "\n",
    "NC_lux_df = NC_lux_df[0:int(0.3*len(NC_lux_df))]"
   ]
  },
  {
   "cell_type": "markdown",
   "metadata": {},
   "source": [
    "Drop duplicates"
   ]
  },
  {
   "cell_type": "code",
   "execution_count": 2,
   "metadata": {},
   "outputs": [
    {
     "name": "stdout",
     "output_type": "stream",
     "text": [
      "Original length: 3015\n",
      "New length after dropping duplicates: 3012\n",
      "Number of dropped duplicates: 3\n"
     ]
    }
   ],
   "source": [
    "# Drop Duplicates\n",
    "original_len = len(NC_lux_df)\n",
    "print(\"Original length:\", original_len)\n",
    "NC_lux_df.drop_duplicates(subset=['text'], inplace=True)\n",
    "new_len = len(NC_lux_df)\n",
    "print(\"New length after dropping duplicates:\", new_len)\n",
    "dropped_count = original_len - new_len\n",
    "print(\"Number of dropped duplicates:\", dropped_count)"
   ]
  },
  {
   "cell_type": "markdown",
   "metadata": {},
   "source": [
    "Split Sentences Use spacy for sentinizer\n",
    "\n",
    "!python -m spacy download xx_ent_wiki_sm"
   ]
  },
  {
   "cell_type": "code",
   "execution_count": null,
   "metadata": {},
   "outputs": [
    {
     "name": "stderr",
     "output_type": "stream",
     "text": [
      "/home/lujun_li/anaconda3/envs/causalLLM/lib/python3.10/site-packages/tqdm/auto.py:21: TqdmWarning: IProgress not found. Please update jupyter and ipywidgets. See https://ipywidgets.readthedocs.io/en/stable/user_install.html\n",
      "  from .autonotebook import tqdm as notebook_tqdm\n",
      "/home/lujun_li/anaconda3/envs/causalLLM/lib/python3.10/site-packages/transformers/models/marian/tokenization_marian.py:175: UserWarning: Recommended: pip install sacremoses.\n",
      "  warnings.warn(\"Recommended: pip install sacremoses.\")\n",
      " 82%|████████▏ | 2477/3012 [00:27<00:05, 89.76it/s] Token indices sequence length is longer than the specified maximum sequence length for this model (1062 > 1024). Running this sequence through the model will result in indexing errors\n",
      "100%|██████████| 3012/3012 [00:32<00:00, 91.48it/s] \n"
     ]
    }
   ],
   "source": [
    "import spacy\n",
    "from transformers import AutoTokenizer, AutoModelForSeq2SeqLM\n",
    "from tqdm import tqdm\n",
    "tqdm.pandas()\n",
    "\n",
    "def chunk_sentence(sentence, max_embedding, tokenizer):\n",
    "    sentence_embeddings = tokenizer.encode(sentence)\n",
    "    chunk_embedding = sentence_embeddings[0:max_embedding]\n",
    "    chunk_text = tokenizer.decode(chunk_embedding)\n",
    "    return chunk_text\n",
    "\n",
    "\n",
    "def extract_sentences(sentencizer, text):\n",
    "    if \"sentencizer\" not in sentencizer.pipe_names:\n",
    "        sentencizer.add_pipe(\"sentencizer\")\n",
    "    doc = sentencizer(text)\n",
    "    sentences = [sent.text for sent in doc.sents]\n",
    "    return sentences\n",
    "\n",
    "\n",
    "def count_embeddings(tokenizer, sentence):\n",
    "    tokens = tokenizer.tokenize(sentence)\n",
    "    return len(tokens)\n",
    "\n",
    "def split_and_slide(text, max_sentence_window, sentencizer, tokenizer, preference_sentence_windows=None):\n",
    "    max_embeddings = 256  # Avoid Bigger Embeddings\n",
    "    min_embeddings = 40    # Avoid Smallest Embeddings\n",
    "    sentences = extract_sentences(sentencizer, text)\n",
    "    sub_sentences = []\n",
    "    windows_size_list = []\n",
    "    is_chunked_list = []\n",
    "    for i in range(len(sentences)):\n",
    "        if preference_sentence_windows:\n",
    "        # Check if the preferred sentence window meets embedding criteria for the whole text\n",
    "            current_sentence = ' '.join(sentences[i:i + preference_sentence_windows]).strip()\n",
    "            embeddings_len = count_embeddings(tokenizer, current_sentence)\n",
    "\n",
    "            if min_embeddings <= embeddings_len <= max_embeddings:\n",
    "                sub_sentences.append(current_sentence)\n",
    "                windows_size_list.append(preference_sentence_windows)\n",
    "                is_chunked_list.append(False)\n",
    "                continue\n",
    "\n",
    "        for window in range(1, max_sentence_window + 1):\n",
    "            current_sentence = ' '.join(sentences[i:i + window]).strip()\n",
    "            embeddings_len = count_embeddings(tokenizer,current_sentence)\n",
    "\n",
    "            if min_embeddings <= embeddings_len <= max_embeddings:\n",
    "                sub_sentences.append(current_sentence)\n",
    "                windows_size_list.append(window)\n",
    "                is_chunked_list.append(False)\n",
    "                break\n",
    "            elif embeddings_len > max_embeddings:\n",
    "                sub_sentences.append(chunk_sentence(current_sentence, max_embedding=max_embeddings, tokenizer=tokenizer).strip())\n",
    "                windows_size_list.append(window)\n",
    "                is_chunked_list.append(True)\n",
    "                break\n",
    "    return  pd.Series([sub_sentences, windows_size_list, is_chunked_list])\n",
    "\n",
    "\n",
    "max_length = int(1024 * 0.75) # Max context length * token rate\n",
    "model_nllb = \"facebook/nllb-200-distilled-600M\"\n",
    "model_opus = \"Helsinki-NLP/opus-mt-mul-en\"\n",
    "\n",
    "nllb_tokenizer = AutoTokenizer.from_pretrained(model_nllb)\n",
    "opus_tokenizer = AutoTokenizer.from_pretrained(model_opus)\n",
    "\n",
    "nllb_model = AutoModelForSeq2SeqLM.from_pretrained(model_nllb,local_files_only=True)\n",
    "opus_model = AutoModelForSeq2SeqLM.from_pretrained(model_opus,local_files_only=True)\n",
    "\n",
    "nllb_max_length = nllb_model.config.max_position_embeddings\n",
    "opus_max_length = opus_model.config.max_position_embeddings\n",
    "\n",
    "sentencizer = spacy.load('xx_ent_wiki_sm') \n",
    "\n",
    "sentence_window = 10 # Needs to be determined\n",
    "preference_sentence_windows = 3\n",
    "\n",
    "NC_lux_df[['sub_sentences', 'windows_size',\"is_chunked\"]] = NC_lux_df['text'].progress_apply(lambda x: split_and_slide(x, sentence_window, sentencizer, nllb_tokenizer, preference_sentence_windows))\n",
    "NC_lux_df['combined'] = NC_lux_df.apply(\n",
    "    lambda row: list(zip(row['sub_sentences'], row['windows_size'], row['is_chunked'])), axis=1\n",
    ")\n",
    "\n",
    "df_exploded = NC_lux_df.explode('combined')\n",
    "df_exploded[['sub_sentences', 'windows_size', 'is_chunked']] = pd.DataFrame(df_exploded['combined'].tolist(), index=df_exploded.index)\n",
    "df_exploded = df_exploded.drop(columns=['combined'])\n",
    "\n",
    "# df_exploded = df_exploded.rename(columns={'sub_sentences': 'text'})\n",
    "df_exploded['windows_size'] = df_exploded['windows_size'].astype(int)\n",
    "df_exploded['sub_sentences'] = df_exploded['sub_sentences'].astype(str)\n",
    "df_exploded['sub_sentences_len'] =  df_exploded['sub_sentences'].apply(lambda x: count_embeddings(tokenizer=nllb_tokenizer, sentence=x))"
   ]
  },
  {
   "cell_type": "markdown",
   "metadata": {},
   "source": [
    "Return the status of of statistic "
   ]
  },
  {
   "cell_type": "code",
   "execution_count": 5,
   "metadata": {},
   "outputs": [
    {
     "name": "stdout",
     "output_type": "stream",
     "text": [
      "\n",
      "Windows Size Stats:\n",
      " count    45691.000000\n",
      "mean         3.026592\n",
      "std          0.325158\n",
      "min          1.000000\n",
      "25%          3.000000\n",
      "50%          3.000000\n",
      "75%          3.000000\n",
      "max          8.000000\n",
      "Name: windows_size, dtype: float64\n",
      "\n",
      "Windows Size Stats by Chunking:\n",
      "               count      mean       std  min  25%  50%  75%  max\n",
      "is_chunked                                                      \n",
      "False       45567.0  3.030131  0.315708  1.0  3.0  3.0  3.0  8.0\n",
      "True          124.0  1.725806  0.799784  1.0  1.0  2.0  2.0  5.0\n"
     ]
    }
   ],
   "source": [
    "windows_size_stats = df_exploded['windows_size'].describe()\n",
    "windows_size_by_chunk = df_exploded.groupby('is_chunked')['windows_size'].describe()\n",
    "\n",
    "print(\"\\nWindows Size Stats:\\n\", windows_size_stats)\n",
    "print(\"\\nWindows Size Stats by Chunking:\\n\", windows_size_by_chunk)\n"
   ]
  },
  {
   "cell_type": "markdown",
   "metadata": {},
   "source": [
    "## Start Inference Using the models"
   ]
  },
  {
   "cell_type": "code",
   "execution_count": 4,
   "metadata": {},
   "outputs": [],
   "source": [
    "from transformers import pipeline, AutoTokenizer, AutoModelForSeq2SeqLM\n",
    "source_lang='ltz_Latn'\n",
    "target_lang='eng_Latn'\n",
    "device='cuda:0'\n",
    "batch_size = 2\n",
    "model_name = \"/home/lujun_li/projects/nllb-200-1.3B\"\n",
    "tokenizer = AutoTokenizer.from_pretrained(model_name,device=device)\n",
    "model = AutoModelForSeq2SeqLM.from_pretrained(model_name)\n",
    "\n",
    "\n",
    "translator = pipeline(\n",
    "    'translation',\n",
    "    model=model,\n",
    "    tokenizer=tokenizer,\n",
    "    src_lang=source_lang,\n",
    "    tgt_lang=target_lang,\n",
    "    max_length=512,\n",
    "    device=device,\n",
    "    batch_size = batch_size\n",
    ")\n",
    "def translate_text(text, translator):\n",
    "    output = translator(text)\n",
    "    translated_text = output[0]['translation_text']\n",
    "    return translated_text\n"
   ]
  },
  {
   "cell_type": "code",
   "execution_count": 5,
   "metadata": {},
   "outputs": [
    {
     "name": "stdout",
     "output_type": "stream",
     "text": [
      "The women's and men's events were held in Switzerland, with the mass start in the Tour de Ski on the programme. The women were challenged on a circuit over 10 kilometres and it was Lin Svahn from Sweden who secured the victory in the final in the goal sprint. In second place came Julia Stupak from Russia, ahead of the American Jessie Diggins.\n"
     ]
    }
   ],
   "source": [
    "from transformers.pipelines.pt_utils import KeyDataset\n",
    "\n",
    "# Example usage\n",
    "text = \" Bei den Dammen a bei den Häre stoung an der Schwäiz de Massestart am Kader vum Tour de Ski um Programm. D'Damme waren op engem Circuit iwwer 10 Kilometer gefuerdert a sou war et d'Linn Svahn aus Schweden, dat sech um Enn am Zilsprint d'Victoire séchere konnt. Op déi zweet Plaz ass d'Julia Stupak aus Russland komm, virun der US-Amerikanerin Jessie Diggins. \"\n",
    "translated_text = translate_text(text,translator)\n",
    "print(translated_text)\n"
   ]
  },
  {
   "cell_type": "code",
   "execution_count": null,
   "metadata": {},
   "outputs": [],
   "source": [
    "from transformers.pipelines.pt_utils import KeyDataset\n",
    "\n",
    "# Example usage\n",
    "text = \"Bei den Dammen a bei den Häre stoung an der Schwäiz de Massestart am Kader vum Tour de Ski um Programm. D'Damme waren op engem Circuit iwwer 10 Kilometer gefuerdert a sou war et d'Linn Svahn aus Schweden, dat sech um Enn am Zilsprint d'Victoire séchere konnt. Op déi zweet Plaz ass d'Julia Stupak aus Russland komm, virun der US-Amerikanerin Jessie Diggins.\"\n",
    "translated_text = translate_text(text,translator)\n",
    "print(translated_text)\n",
    "\n",
    "output = []\n",
    "texts = df_exploded[\"sub_sentences\"][0:4].to_list()\n",
    "\n",
    "for i in tqdm(range(0, len(texts), batch_size), desc=\"Translating\", unit=\"batch\"):\n",
    "    batch = texts[i:i+batch_size]\n",
    "    translated_batch = translator(batch)\n",
    "    output.extend(translated_batch)"
   ]
  },
  {
   "cell_type": "code",
   "execution_count": 51,
   "metadata": {},
   "outputs": [
    {
     "name": "stderr",
     "output_type": "stream",
     "text": [
      "/tmp/ipykernel_173784/1496423853.py:3: SettingWithCopyWarning: \n",
      "A value is trying to be set on a copy of a slice from a DataFrame.\n",
      "Try using .loc[row_indexer,col_indexer] = value instead\n",
      "\n",
      "See the caveats in the documentation: https://pandas.pydata.org/pandas-docs/stable/user_guide/indexing.html#returning-a-view-versus-a-copy\n",
      "  test[\"translated_sub_sentences\"]= translated_texts\n"
     ]
    }
   ],
   "source": [
    "test = df_exploded[0:4]\n",
    "translated_texts = [item['translation_text'] for item in output]\n",
    "test[\"translated_sub_sentences\"]= translated_texts"
   ]
  },
  {
   "cell_type": "code",
   "execution_count": 52,
   "metadata": {},
   "outputs": [
    {
     "data": {
      "text/html": [
       "<div>\n",
       "<style scoped>\n",
       "    .dataframe tbody tr th:only-of-type {\n",
       "        vertical-align: middle;\n",
       "    }\n",
       "\n",
       "    .dataframe tbody tr th {\n",
       "        vertical-align: top;\n",
       "    }\n",
       "\n",
       "    .dataframe thead th {\n",
       "        text-align: right;\n",
       "    }\n",
       "</style>\n",
       "<table border=\"1\" class=\"dataframe\">\n",
       "  <thead>\n",
       "    <tr style=\"text-align: right;\">\n",
       "      <th></th>\n",
       "      <th>label</th>\n",
       "      <th>text</th>\n",
       "      <th>sub_sentences</th>\n",
       "      <th>windows_size</th>\n",
       "      <th>is_chunked</th>\n",
       "      <th>sub_sentences_len</th>\n",
       "      <th>translated_sub_sentences</th>\n",
       "    </tr>\n",
       "  </thead>\n",
       "  <tbody>\n",
       "    <tr>\n",
       "      <th>0</th>\n",
       "      <td>train</td>\n",
       "      <td>Bei den Dammen a bei den Häre stoung an der Sc...</td>\n",
       "      <td>Bei den Dammen a bei den Häre stoung an der Sc...</td>\n",
       "      <td>3.0</td>\n",
       "      <td>False</td>\n",
       "      <td>106</td>\n",
       "      <td>The women and the women were the masses in Swi...</td>\n",
       "    </tr>\n",
       "    <tr>\n",
       "      <th>0</th>\n",
       "      <td>train</td>\n",
       "      <td>Bei den Dammen a bei den Häre stoung an der Sc...</td>\n",
       "      <td>D'Damme waren op engem Circuit iwwer 10 Kilome...</td>\n",
       "      <td>3.0</td>\n",
       "      <td>False</td>\n",
       "      <td>103</td>\n",
       "      <td>The ladies were competing on a circuit of over...</td>\n",
       "    </tr>\n",
       "    <tr>\n",
       "      <th>0</th>\n",
       "      <td>train</td>\n",
       "      <td>Bei den Dammen a bei den Häre stoung an der Sc...</td>\n",
       "      <td>Op déi zweet Plaz ass d'Julia Stupak aus Russl...</td>\n",
       "      <td>3.0</td>\n",
       "      <td>False</td>\n",
       "      <td>108</td>\n",
       "      <td>In the second place came Julia Stupak from Rus...</td>\n",
       "    </tr>\n",
       "    <tr>\n",
       "      <th>0</th>\n",
       "      <td>train</td>\n",
       "      <td>Bei den Dammen a bei den Häre stoung an der Sc...</td>\n",
       "      <td>Am General steet d'Linn Svahn mat engem Virspr...</td>\n",
       "      <td>3.0</td>\n",
       "      <td>False</td>\n",
       "      <td>109</td>\n",
       "      <td>In general, Line Svahn is the top with a lead ...</td>\n",
       "    </tr>\n",
       "  </tbody>\n",
       "</table>\n",
       "</div>"
      ],
      "text/plain": [
       "   label                                               text  \\\n",
       "0  train  Bei den Dammen a bei den Häre stoung an der Sc...   \n",
       "0  train  Bei den Dammen a bei den Häre stoung an der Sc...   \n",
       "0  train  Bei den Dammen a bei den Häre stoung an der Sc...   \n",
       "0  train  Bei den Dammen a bei den Häre stoung an der Sc...   \n",
       "\n",
       "                                       sub_sentences  windows_size is_chunked  \\\n",
       "0  Bei den Dammen a bei den Häre stoung an der Sc...           3.0      False   \n",
       "0  D'Damme waren op engem Circuit iwwer 10 Kilome...           3.0      False   \n",
       "0  Op déi zweet Plaz ass d'Julia Stupak aus Russl...           3.0      False   \n",
       "0  Am General steet d'Linn Svahn mat engem Virspr...           3.0      False   \n",
       "\n",
       "   sub_sentences_len                           translated_sub_sentences  \n",
       "0                106  The women and the women were the masses in Swi...  \n",
       "0                103  The ladies were competing on a circuit of over...  \n",
       "0                108  In the second place came Julia Stupak from Rus...  \n",
       "0                109  In general, Line Svahn is the top with a lead ...  "
      ]
     },
     "execution_count": 52,
     "metadata": {},
     "output_type": "execute_result"
    }
   ],
   "source": [
    "test"
   ]
  },
  {
   "cell_type": "code",
   "execution_count": 36,
   "metadata": {},
   "outputs": [
    {
     "data": {
      "text/plain": [
       "20"
      ]
     },
     "execution_count": 36,
     "metadata": {},
     "output_type": "execute_result"
    }
   ],
   "source": [
    "len(translated_texts)"
   ]
  },
  {
   "cell_type": "code",
   "execution_count": 32,
   "metadata": {},
   "outputs": [
    {
     "data": {
      "text/plain": [
       "0                           Bei den Dammen a bei den Häre stoung an der Sc...\n",
       "0                           D'Damme waren op engem Circuit iwwer 10 Kilome...\n",
       "0                           Op déi zweet Plaz ass d'Julia Stupak aus Russl...\n",
       "0                           Am General steet d'Linn Svahn mat engem Virspr...\n",
       "0                           Spéider sinn dann d'Hären iwwer 15 Kilometer u...\n",
       "                                                  ...                        \n",
       "9                           An enger klenger Schossel, de Rum, 2 Iessläffe...\n",
       "9                           Domat de Stollen an de Glieser beträufelen. An...\n",
       "9                           An enger Schossel de Joghurt, d´Sauer Ram, de ...\n",
       "9                           D´Crème an all Glas iwwert de Stollen verdeele...\n",
       "translated_sub_sentences    [The women and the women were the masses in Sw...\n",
       "Name: sub_sentences, Length: 201, dtype: object"
      ]
     },
     "execution_count": 32,
     "metadata": {},
     "output_type": "execute_result"
    }
   ],
   "source": [
    "test"
   ]
  },
  {
   "cell_type": "code",
   "execution_count": 18,
   "metadata": {},
   "outputs": [],
   "source": [
    "import pandas as pd\n",
    "\n",
    "json_data = translated_df.to_json(orient='records', lines=True)\n",
    "\n",
    "with open('translated_data.json', 'w') as f:\n",
    "    f.write(json_data)"
   ]
  },
  {
   "cell_type": "code",
   "execution_count": null,
   "metadata": {},
   "outputs": [
    {
     "name": "stderr",
     "output_type": "stream",
     "text": [
      "100%|██████████| 48636/48636 [00:09<00:00, 4917.41it/s]\n"
     ]
    }
   ],
   "source": [
    "def calculate_tokens(text, tokenizer):\n",
    "    if isinstance(text, str):\n",
    "        tokens = tokenizer.tokenize(text)\n",
    "        tokens_len = len(tokens)\n",
    "        return pd.Series([tokens, tokens_len])\n",
    "\n",
    "df_exploded[['tokens', 'tokens_length']] = df_exploded['sub_sentences'].progress_apply(lambda x: calculate_tokens(x, nllb_tokenizer))\n"
   ]
  },
  {
   "cell_type": "markdown",
   "metadata": {},
   "source": []
  },
  {
   "cell_type": "code",
   "execution_count": 46,
   "metadata": {},
   "outputs": [],
   "source": [
    "text = \"\"\"Hello, nihao. nihao. \n",
    "What is the problems.\n",
    "\n",
    "\n",
    "Fuck you; I am your daddy.\"\"\""
   ]
  },
  {
   "cell_type": "code",
   "execution_count": 47,
   "metadata": {},
   "outputs": [
    {
     "data": {
      "text/plain": [
       "['Hello, nihao',\n",
       " 'nihao',\n",
       " 'What is the problems',\n",
       " 'Fuck you',\n",
       " 'I am your daddy',\n",
       " '']"
      ]
     },
     "execution_count": 47,
     "metadata": {},
     "output_type": "execute_result"
    }
   ],
   "source": [
    "sentences = re.split(r'(?<=[.!?;…])+', text)\n",
    "cleaned_sentences = [re.sub(r'^[\\W_ ]+|[\\W_ ]+$', '', sentence) for sentence in sentences]\n",
    "cleaned_sentences\n"
   ]
  },
  {
   "cell_type": "code",
   "execution_count": 56,
   "metadata": {},
   "outputs": [],
   "source": [
    "test = df_exploded[df_exploded[\"length\"] == df_exploded[\"length\"].max()]"
   ]
  },
  {
   "cell_type": "code",
   "execution_count": 57,
   "metadata": {},
   "outputs": [
    {
     "data": {
      "text/html": [
       "<div>\n",
       "<style scoped>\n",
       "    .dataframe tbody tr th:only-of-type {\n",
       "        vertical-align: middle;\n",
       "    }\n",
       "\n",
       "    .dataframe tbody tr th {\n",
       "        vertical-align: top;\n",
       "    }\n",
       "\n",
       "    .dataframe thead th {\n",
       "        text-align: right;\n",
       "    }\n",
       "</style>\n",
       "<table border=\"1\" class=\"dataframe\">\n",
       "  <thead>\n",
       "    <tr style=\"text-align: right;\">\n",
       "      <th></th>\n",
       "      <th>label</th>\n",
       "      <th>length</th>\n",
       "      <th>text</th>\n",
       "    </tr>\n",
       "  </thead>\n",
       "  <tbody>\n",
       "    <tr>\n",
       "      <th>9</th>\n",
       "      <td>train</td>\n",
       "      <td>768</td>\n",
       "      <td>E puer Blueberries driwwer streeën, nach e bës...</td>\n",
       "    </tr>\n",
       "    <tr>\n",
       "      <th>26</th>\n",
       "      <td>train</td>\n",
       "      <td>768</td>\n",
       "      <td>D'Resultat muss iwwerdeems op Lëtzebuergesch, ...</td>\n",
       "    </tr>\n",
       "    <tr>\n",
       "      <th>26</th>\n",
       "      <td>train</td>\n",
       "      <td>768</td>\n",
       "      <td>Par conséquent, toute personne, âgée de 12 ans...</td>\n",
       "    </tr>\n",
       "    <tr>\n",
       "      <th>40</th>\n",
       "      <td>train</td>\n",
       "      <td>768</td>\n",
       "      <td>Den Depistage leeft ewell zanter bal 3 Méint a...</td>\n",
       "    </tr>\n",
       "    <tr>\n",
       "      <th>49</th>\n",
       "      <td>train</td>\n",
       "      <td>768</td>\n",
       "      <td>La priorité absolue de la réglementation de ce...</td>\n",
       "    </tr>\n",
       "    <tr>\n",
       "      <th>...</th>\n",
       "      <td>...</td>\n",
       "      <td>...</td>\n",
       "      <td>...</td>\n",
       "    </tr>\n",
       "    <tr>\n",
       "      <th>10038</th>\n",
       "      <td>dev</td>\n",
       "      <td>768</td>\n",
       "      <td>Fanny Kinsch Reaktioun vun der DPOch fir den D...</td>\n",
       "    </tr>\n",
       "    <tr>\n",
       "      <th>10038</th>\n",
       "      <td>dev</td>\n",
       "      <td>768</td>\n",
       "      <td>er mat gefreet...Déi gréng Parteipresidentin D...</td>\n",
       "    </tr>\n",
       "    <tr>\n",
       "      <th>10038</th>\n",
       "      <td>dev</td>\n",
       "      <td>768</td>\n",
       "      <td>Et wier kloer, datt d'Klimafro an Europa ganz ...</td>\n",
       "    </tr>\n",
       "    <tr>\n",
       "      <th>10051</th>\n",
       "      <td>dev</td>\n",
       "      <td>768</td>\n",
       "      <td>XR.Cet événement spécial prendra place au sein...</td>\n",
       "    </tr>\n",
       "    <tr>\n",
       "      <th>10051</th>\n",
       "      <td>dev</td>\n",
       "      <td>768</td>\n",
       "      <td>nformations sur la programmation, rendez-vous ...</td>\n",
       "    </tr>\n",
       "  </tbody>\n",
       "</table>\n",
       "<p>650 rows × 3 columns</p>\n",
       "</div>"
      ],
      "text/plain": [
       "       label  length                                               text\n",
       "9      train     768  E puer Blueberries driwwer streeën, nach e bës...\n",
       "26     train     768  D'Resultat muss iwwerdeems op Lëtzebuergesch, ...\n",
       "26     train     768  Par conséquent, toute personne, âgée de 12 ans...\n",
       "40     train     768  Den Depistage leeft ewell zanter bal 3 Méint a...\n",
       "49     train     768  La priorité absolue de la réglementation de ce...\n",
       "...      ...     ...                                                ...\n",
       "10038    dev     768  Fanny Kinsch Reaktioun vun der DPOch fir den D...\n",
       "10038    dev     768  er mat gefreet...Déi gréng Parteipresidentin D...\n",
       "10038    dev     768  Et wier kloer, datt d'Klimafro an Europa ganz ...\n",
       "10051    dev     768  XR.Cet événement spécial prendra place au sein...\n",
       "10051    dev     768  nformations sur la programmation, rendez-vous ...\n",
       "\n",
       "[650 rows x 3 columns]"
      ]
     },
     "execution_count": 57,
     "metadata": {},
     "output_type": "execute_result"
    }
   ],
   "source": [
    "test"
   ]
  },
  {
   "cell_type": "code",
   "execution_count": 31,
   "metadata": {},
   "outputs": [],
   "source": [
    "max_row = df_exploded[df_exploded['length'] == df_exploded['length'].max()]"
   ]
  },
  {
   "cell_type": "code",
   "execution_count": 33,
   "metadata": {},
   "outputs": [
    {
     "data": {
      "text/html": [
       "<div>\n",
       "<style scoped>\n",
       "    .dataframe tbody tr th:only-of-type {\n",
       "        vertical-align: middle;\n",
       "    }\n",
       "\n",
       "    .dataframe tbody tr th {\n",
       "        vertical-align: top;\n",
       "    }\n",
       "\n",
       "    .dataframe thead th {\n",
       "        text-align: right;\n",
       "    }\n",
       "</style>\n",
       "<table border=\"1\" class=\"dataframe\">\n",
       "  <thead>\n",
       "    <tr style=\"text-align: right;\">\n",
       "      <th></th>\n",
       "      <th>label</th>\n",
       "      <th>length</th>\n",
       "      <th>text</th>\n",
       "    </tr>\n",
       "  </thead>\n",
       "  <tbody>\n",
       "    <tr>\n",
       "      <th>9</th>\n",
       "      <td>train</td>\n",
       "      <td>768</td>\n",
       "      <td>E puer Blueberries driwwer streeën, nach e bës...</td>\n",
       "    </tr>\n",
       "    <tr>\n",
       "      <th>26</th>\n",
       "      <td>train</td>\n",
       "      <td>768</td>\n",
       "      <td>D'Resultat muss iwwerdeems op Lëtzebuergesch, ...</td>\n",
       "    </tr>\n",
       "    <tr>\n",
       "      <th>26</th>\n",
       "      <td>train</td>\n",
       "      <td>768</td>\n",
       "      <td>Par conséquent, toute personne, âgée de 12 ans...</td>\n",
       "    </tr>\n",
       "    <tr>\n",
       "      <th>40</th>\n",
       "      <td>train</td>\n",
       "      <td>768</td>\n",
       "      <td>Den Depistage leeft ewell zanter bal 3 Méint a...</td>\n",
       "    </tr>\n",
       "    <tr>\n",
       "      <th>49</th>\n",
       "      <td>train</td>\n",
       "      <td>768</td>\n",
       "      <td>La priorité absolue de la réglementation de ce...</td>\n",
       "    </tr>\n",
       "    <tr>\n",
       "      <th>...</th>\n",
       "      <td>...</td>\n",
       "      <td>...</td>\n",
       "      <td>...</td>\n",
       "    </tr>\n",
       "    <tr>\n",
       "      <th>10038</th>\n",
       "      <td>dev</td>\n",
       "      <td>768</td>\n",
       "      <td>Fanny Kinsch Reaktioun vun der DPOch fir den D...</td>\n",
       "    </tr>\n",
       "    <tr>\n",
       "      <th>10038</th>\n",
       "      <td>dev</td>\n",
       "      <td>768</td>\n",
       "      <td>er mat gefreet...Déi gréng Parteipresidentin D...</td>\n",
       "    </tr>\n",
       "    <tr>\n",
       "      <th>10038</th>\n",
       "      <td>dev</td>\n",
       "      <td>768</td>\n",
       "      <td>Et wier kloer, datt d'Klimafro an Europa ganz ...</td>\n",
       "    </tr>\n",
       "    <tr>\n",
       "      <th>10051</th>\n",
       "      <td>dev</td>\n",
       "      <td>768</td>\n",
       "      <td>XR.Cet événement spécial prendra place au sein...</td>\n",
       "    </tr>\n",
       "    <tr>\n",
       "      <th>10051</th>\n",
       "      <td>dev</td>\n",
       "      <td>768</td>\n",
       "      <td>nformations sur la programmation, rendez-vous ...</td>\n",
       "    </tr>\n",
       "  </tbody>\n",
       "</table>\n",
       "<p>650 rows × 3 columns</p>\n",
       "</div>"
      ],
      "text/plain": [
       "       label  length                                               text\n",
       "9      train     768  E puer Blueberries driwwer streeën, nach e bës...\n",
       "26     train     768  D'Resultat muss iwwerdeems op Lëtzebuergesch, ...\n",
       "26     train     768  Par conséquent, toute personne, âgée de 12 ans...\n",
       "40     train     768  Den Depistage leeft ewell zanter bal 3 Méint a...\n",
       "49     train     768  La priorité absolue de la réglementation de ce...\n",
       "...      ...     ...                                                ...\n",
       "10038    dev     768  Fanny Kinsch Reaktioun vun der DPOch fir den D...\n",
       "10038    dev     768  er mat gefreet...Déi gréng Parteipresidentin D...\n",
       "10038    dev     768  Et wier kloer, datt d'Klimafro an Europa ganz ...\n",
       "10051    dev     768  XR.Cet événement spécial prendra place au sein...\n",
       "10051    dev     768  nformations sur la programmation, rendez-vous ...\n",
       "\n",
       "[650 rows x 3 columns]"
      ]
     },
     "execution_count": 33,
     "metadata": {},
     "output_type": "execute_result"
    }
   ],
   "source": [
    "max_row"
   ]
  },
  {
   "cell_type": "code",
   "execution_count": 10,
   "metadata": {},
   "outputs": [
    {
     "data": {
      "image/png": "[encoded data removed]",
      "text/plain": [
       "<Figure size 1000x600 with 1 Axes>"
      ]
     },
     "metadata": {},
     "output_type": "display_data"
    }
   ],
   "source": [
    "import matplotlib.pyplot as plt\n",
    "\n",
    "df_exploded[\"length\"] = df_exploded[\"text\"].apply(len)\n",
    "\n",
    "plt.figure(figsize=(10, 6))\n",
    "plt.hist(df_exploded[\"length\"], bins=30, color='skyblue', edgecolor='black')\n",
    "plt.title(\"Length Distribution of Texts\")\n",
    "plt.xlabel(\"Text Length\")\n",
    "plt.ylabel(\"Frequency\")\n",
    "plt.show()"
   ]
  },
  {
   "cell_type": "markdown",
   "metadata": {},
   "source": [
    "# Inference Modeling\n",
    "\n",
    "\n",
    "|  Models |  Luxembourgish to English |  Luxembourgish to French | Luxembourgish to  German |\n",
    "|:-------:|:-------:|:-------:|:-------:|\n",
    "|  Mixtral 8*22B  |  Yes  |  Yes  |  Yes  |\n",
    "|  Llama-3-4B  |  Yes  |  Yes  |  Yes  |\n",
    "|  ChatGPT 3.5-Turbo |  Yes  |  Yes  |  Yes  |"
   ]
  },
  {
   "cell_type": "code",
   "execution_count": null,
   "metadata": {},
   "outputs": [],
   "source": [
    "prompt_template = \"\"\"Please translate the following {language_1} text into {language_2}. Please answer me with only translated text!\n",
    "\n",
    "---------------------------------- Text to be translated ----------------------------------\n",
    "\n",
    "{Text}\n",
    "\n",
    "---------------------------------- Text to be translated ----------------------------------\n",
    "\n",
    "\"\"\"\n",
    "\n",
    "df_exploded[\"prompt\"] = df_exploded[\"text\"].apply( lambda text: prompt_template.format(language_1=\"Luxembourgish\", language_2=\"English\", Text=text))"
   ]
  },
  {
   "cell_type": "code",
   "execution_count": null,
   "metadata": {},
   "outputs": [
    {
     "data": {
      "application/vnd.jupyter.widget-view+json": {
       "model_id": "2a0d9016645b4e318810759b3b32782c",
       "version_major": 2,
       "version_minor": 0
      },
      "text/plain": [
       "Loading checkpoint shards:   0%|          | 0/2 [00:00<?, ?it/s]"
      ]
     },
     "metadata": {},
     "output_type": "display_data"
    }
   ],
   "source": [
    "import torch\n",
    "from transformers import (\n",
    "    AutoTokenizer,\n",
    "    AutoModelForCausalLM,\n",
    "    BitsAndBytesConfig,\n",
    "    GenerationConfig,\n",
    "    pipeline,\n",
    ")\n",
    "from tqdm import tqdm\n",
    "import pandas as pd\n",
    "import argparse\n",
    "import torch\n",
    "import numpy as np\n",
    "from datetime import datetime\n",
    "import time\n",
    "\n",
    "def initialize_pipeline(model_config_dict):\n",
    "    model_path = model_config_dict[\"CURRENT_RUNNING_MODEL\"]\n",
    "    if not model_path:\n",
    "        raise ValueError(\"CURRENT_RUNNING_MODEL is not set\")\n",
    "    load_in_4bit,load_in_8bit = model_config_dict[\"CURRENT_LOAD_IN_4BIT\"],model_config_dict[\"CURRENT_LOAD_IN_8BIT\"]\n",
    "\n",
    "    if model_config_dict[\"IF_LOADING_QUANTIZATION\"]:\n",
    "        nf4_config = BitsAndBytesConfig(load_in_4bit=load_in_4bit, load_in_8bit=load_in_8bit,bnb_4bit_compute_dtype=torch.float16,)\n",
    "    else:\n",
    "        nf4_config = None\n",
    "\n",
    "    generation_config = GenerationConfig.from_pretrained(model_path)\n",
    "    # Sampling Methods Configuration\n",
    "    generation_config.do_sample = True\n",
    "    generation_config.max_length = 1024\n",
    "    generation_config.pad_token_id = 0\n",
    "    generation_config.top_p = 0.9\n",
    "    generation_config.temperature = 0.9\n",
    "    generation_config.max_new_tokens = 512\n",
    "    dynamic_text_pipeline = pipeline(\"text-generation\", model=model_path, torch_dtype=torch.float32, device_map=\"auto\")\n",
    "    dynamic_text_pipeline.model.generation_config = generation_config\n",
    "    return dynamic_text_pipeline\n",
    "\n",
    "def generate_text(pipeline, prompt):\n",
    "    messages = [\n",
    "        {\"role\": \"system\", \"content\": \"\"},\n",
    "        {\"role\": \"user\", \"content\": prompt},\n",
    "    ]\n",
    "    response = pipeline(prompt)[0][\"generated_text\"][-1]\n",
    "    return response\n",
    "\n",
    "\n",
    "model_config_dict = {\n",
    "    \"CURRENT_RUNNING_MODEL\": \"mt_luxembourgish/meta-llama/Llama-3.2-3B-Instruct\",\n",
    "    \"IF_LOADING_QUANTIZATION\": False,\n",
    "    \"CURRENT_LOAD_IN_4BIT\": False,\n",
    "    \"CURRENT_LOAD_IN_8BIT\": False\n",
    "}\n",
    "pipeline = initialize_pipeline(model_config_dict)"
   ]
  },
  {
   "cell_type": "code",
   "execution_count": null,
   "metadata": {},
   "outputs": [],
   "source": [
    "# Run inference\n",
    "from datetime import datetime\n",
    "\n",
    "\n",
    "pbar = tqdm(total=len(df_exploded))\n",
    "pbar.n = 0; pbar.last_print_n =0, pbar.refresh()\n",
    "\n",
    "current_time = datetime.now().strftime(\"%Y_%m_%d_%H_%M_%S\")\n",
    "for index, row in df_exploded.iterrows():\n",
    "        updated_row = row.copy()\n",
    "        updated_row[\"generated_response\"] = generate_text(pipeline=pipeline, prompt=updated_row[\"prompt\"])\n",
    "        updated_dataframe = pd.DataFrame([updated_row])\n",
    "        if times == 0:\n",
    "            updated_dataframe.to_csv( f\"results/translation_{current_time}\", index=False, mode=\"w\", header=True)\n",
    "        else:\n",
    "            updated_dataframe.to_csv( f\"results/translation_{current_time}\", index=False, mode=\"a\", header=False)\n",
    "        pbar.update(1)\n",
    "        times = times + 1"
   ]
  }
 ],
 "metadata": {
  "kernelspec": {
   "display_name": "causalLLM",
   "language": "python",
   "name": "python3"
  },
  "language_info": {
   "codemirror_mode": {
    "name": "ipython",
    "version": 3
   },
   "file_extension": ".py",
   "mimetype": "text/x-python",
   "name": "python",
   "nbconvert_exporter": "python",
   "pygments_lexer": "ipython3",
   "version": "3.10.15"
  }
 },
 "nbformat": 4,
 "nbformat_minor": 2
}
