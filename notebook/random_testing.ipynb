{
 "cells": [
  {
   "cell_type": "code",
   "execution_count": 2,
   "metadata": {},
   "outputs": [
    {
     "name": "stderr",
     "output_type": "stream",
     "text": [
      "Downloading shards: 100%|██████████| 2/2 [04:13<00:00, 126.88s/it]\n",
      "Loading checkpoint shards: 100%|██████████| 2/2 [00:05<00:00,  2.73s/it]\n"
     ]
    },
    {
     "name": "stdout",
     "output_type": "stream",
     "text": [
      "Decoded text from token IDs: Hello, how are you?\n",
      "Closest token by embedding: ,\n"
     ]
    }
   ],
   "source": [
    "from transformers import AutoTokenizer, AutoModelForCausalLM\n",
    "import torch\n",
    "import numpy as np\n",
    "\n",
    "# 使用 Hugging Face 的 LLaMA 2 模型和 tokenizer\n",
    "model_name = \"meta-llama/Llama-3.2-3B-Instruct\"  # 或者 \"meta-llama/Llama-2-13b-hf\" 等\n",
    "tokenizer = AutoTokenizer.from_pretrained(model_name)\n",
    "model = AutoModelForCausalLM.from_pretrained(model_name)\n",
    "\n",
    "# 输入文本\n",
    "text = \"Hello, how are you?\"\n",
    "\n",
    "# 将文本编码为 token ID 序列\n",
    "input_ids = tokenizer.encode(text, return_tensors=\"pt\")\n",
    "\n",
    "# 解码 token ID 序列回文本\n",
    "decoded_text = tokenizer.decode(input_ids[0], skip_special_tokens=True)\n",
    "print(f\"Decoded text from token IDs: {decoded_text}\")\n",
    "\n",
    "# 获取嵌入表示\n",
    "with torch.no_grad():\n",
    "    embeddings = model.get_input_embeddings()(input_ids)  # 获取输入 token 的嵌入\n",
    "\n",
    "# 计算嵌入的平均向量，并找到词汇表中最接近的 token\n",
    "average_embedding = embeddings.mean(dim=1).squeeze().numpy()\n",
    "vocab_embeddings = model.get_input_embeddings().weight.detach().numpy()\n",
    "\n",
    "# 计算平均嵌入和词汇表中每个 token 的余弦相似度\n",
    "cosine_similarities = np.dot(vocab_embeddings, average_embedding) / (\n",
    "    np.linalg.norm(vocab_embeddings, axis=1) * np.linalg.norm(average_embedding)\n",
    ")\n",
    "closest_token_id = np.argmax(cosine_similarities)\n",
    "closest_token = tokenizer.decode([closest_token_id])\n",
    "\n",
    "\n",
    "print(f\"Closest token by embedding: {closest_token}\")\n"
   ]
  },
  {
   "cell_type": "code",
   "execution_count": null,
   "metadata": {},
   "outputs": [
    {
     "name": "stderr",
     "output_type": "stream",
     "text": [
      "/home/lujun_li/anaconda3/envs/causalLLM/lib/python3.10/site-packages/tqdm/auto.py:21: TqdmWarning: IProgress not found. Please update jupyter and ipywidgets. See https://ipywidgets.readthedocs.io/en/stable/user_install.html\n",
      "  from .autonotebook import tqdm as notebook_tqdm\n",
      "Loading checkpoint shards: 100%|██████████| 2/2 [00:06<00:00,  3.27s/it]\n"
     ]
    },
    {
     "name": "stdout",
     "output_type": "stream",
     "text": [
      "Token IDs: tensor([[128000,   9906,     11,   1268,    527,    499,     30]])\n",
      "Decoded Text: Hello, how are you?\n",
      "Embedding shape: torch.Size([1, 7, 3072])\n",
      "Original Text: Hello, how are you?\n",
      "Decoded Text: Hello, how are you?\n"
     ]
    }
   ],
   "source": [
    "from transformers import AutoTokenizer, AutoModelForCausalLM\n",
    "import torch\n",
    "import numpy as np\n",
    "\n",
    "# 初始化 tokenizer 和模型（确保模型名称和权重已下载，可能需要根据实际模型版本进行调整）\n",
    "model_name = \"meta-llama/Llama-3.2-3B-Instruct\"  # 或者其他 Llama 模型名称\n",
    "tokenizer = AutoTokenizer.from_pretrained(model_name)\n",
    "model = AutoModelForCausalLM.from_pretrained(model_name)\n",
    "\n",
    "# 输入文本\n",
    "text = \"Hello, how are you?\"\n",
    "\n",
    "# 将文本转化为 tokens (tokenize)\n",
    "input_ids = tokenizer.encode(text, return_tensors=\"pt\")\n",
    "\n",
    "# 查看 token IDs\n",
    "print(\"Token IDs:\",input_ids)\n",
    "\n",
    "# 解码 tokens 回到原文本 (decode)\n",
    "decoded_text = tokenizer.decode(input_ids[0], skip_special_tokens=True)\n",
    "print(\"Decoded Text:\", decoded_text)\n",
    "\n",
    "# 获取模型生成的 embedding\n",
    "with torch.no_grad():\n",
    "    embeddings = model.get_input_embeddings()(input_ids)  # 获取输入 token 的嵌入\n",
    "\n",
    "print(\"Embedding shape:\", embeddings.shape)  # 输出 embedding 的形状\n",
    "\n",
    "# 反映射示例: 通过 embedding 找到最接近的 token (仅作示例)\n",
    "# (假设你有一个特定的 embedding 需要找到对应的 token, 可以使用 embedding 与 vocab 的余弦相似性来找到近似的 token)\n",
    "vocab_size = tokenizer.vocab_size\n",
    "embedding_to_token_map = {}\n",
    "for i in -(vocab_size):\n",
    "    token_text = tokenizer.decode([i])\n",
    "    token_embedding = model.get_input_embeddings()(torch.tensor([i]))\n",
    "    embedding_to_token_map[token_text] = token_embedding\n",
    "\n",
    "# 可视化结果\n",
    "print(\"Original Text:\", text)\n",
    "print(\"Decoded Text:\", decoded_text)\n"
   ]
  }
 ],
 "metadata": {
  "kernelspec": {
   "display_name": "causalLLM",
   "language": "python",
   "name": "python3"
  },
  "language_info": {
   "codemirror_mode": {
    "name": "ipython",
    "version": 3
   },
   "file_extension": ".py",
   "mimetype": "text/x-python",
   "name": "python",
   "nbconvert_exporter": "python",
   "pygments_lexer": "ipython3",
   "version": "3.10.15"
  }
 },
 "nbformat": 4,
 "nbformat_minor": 2
}
